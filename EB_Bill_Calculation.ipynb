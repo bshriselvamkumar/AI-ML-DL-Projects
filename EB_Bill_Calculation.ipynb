{
 "cells": [
  {
   "cell_type": "markdown",
   "id": "3a342b6b-596d-4f32-afe6-34eb0f9b7f62",
   "metadata": {},
   "source": [
    "# Electricity Bill Calculation project using Data Science:\n",
    "\n",
    "1. Objective: Calculate the electricity bill based on consumption, tariffs, and other factors like peak hours or seasonal charges.\n",
    "\n",
    "2. Dataset: Use a dataset containing customer data such as monthly usage, type of customer (residential, commercial), and tariff rates.\n",
    "\n",
    "3. Preprocessing: Clean the data by handling missing values, converting categorical data to numerical, and normalizing values if necessary.\n",
    "\n",
    "4. Feature Selection: Identify key factors influencing the bill, such as units consumed, customer type, and additional charges.\n",
    "\n",
    "5. Consumption Calculation: Calculate the total units of electricity consumed by the customer during the billing period.\n",
    "\n",
    "6. Tariff Rates: Use different rates for different consumption levels (e.g., basic rate, higher rate for excess usage, or time-based rates).\n",
    "\n",
    "7. Additional Charges: Include other charges like fixed charges, taxes, and surcharge for peak-hour consumption.\n",
    "\n",
    "8. Modeling: If using machine learning, train a model to predict the bill based on the customer’s features and usage patterns.\n",
    "\n",
    "9. Evaluation: Measure the accuracy of the bill calculation, comparing predicted values with actual bills from the dataset.\n",
    "\n",
    "10. Automation: Create a system that automatically calculates the bill for new customers based on their consumption data and tariff structure."
   ]
  },
  {
   "cell_type": "code",
   "execution_count": 2,
   "id": "d78ed542-7afa-439b-8cb6-15bf9f20c7b7",
   "metadata": {},
   "outputs": [],
   "source": [
    "def Register():\n",
    "    name = input('enter name:')\n",
    "    mobile = str(int(input('enter mobile:')))\n",
    "    email = input('enter email:')\n",
    "    password = input('enter password:')\n",
    "    print(name,mobile,email,password)"
   ]
  },
  {
   "cell_type": "code",
   "execution_count": 3,
   "id": "fb8d5540-2787-4bae-aa21-d1d2ee1461c2",
   "metadata": {},
   "outputs": [
    {
     "name": "stdin",
     "output_type": "stream",
     "text": [
      "enter name: 2\n",
      "enter mobile: 5\n",
      "enter email: r\n",
      "enter password: 123\n"
     ]
    },
    {
     "name": "stdout",
     "output_type": "stream",
     "text": [
      "2 5 r 123\n"
     ]
    }
   ],
   "source": [
    "Register()"
   ]
  },
  {
   "cell_type": "code",
   "execution_count": 4,
   "id": "a7c70663-73bf-4107-b54f-2e8f557acda1",
   "metadata": {},
   "outputs": [],
   "source": [
    "data = {}"
   ]
  },
  {
   "cell_type": "code",
   "execution_count": 5,
   "id": "7665f5e3-3097-4a69-91ed-e23fbeb81c89",
   "metadata": {},
   "outputs": [],
   "source": [
    "def Register():\n",
    "    username = input('Enter username: ')\n",
    "    if username in data.keys():\n",
    "        print('This username already exists.')\n",
    "    else:\n",
    "        name = input('Enter name: ')\n",
    "        mobile = str(input('Enter mobile: '))\n",
    "        email = input('Enter email: ')\n",
    "        password = input('Enter password: ')\n",
    "        data[username]={}\n",
    "        data[username]['PI']={}\n",
    "        data[username]['PI']['name'] = name\n",
    "        data[username]['PI']['mobile'] = mobile\n",
    "        data[username]['PI']['email'] = email\n",
    "        data[username]['PI']['password'] = password\n",
    "        print('registration successful')\n",
    "        data[username]['EB_bills']={}\n",
    "        for i in range(1,4):\n",
    "            a = int(input('''\n",
    "    Select any option:\n",
    "    1 = Login\n",
    "    2 = Register with new Username\n",
    "    3 = Exit\n",
    "    '''))\n",
    "            if a == 1:\n",
    "                Login()\n",
    "                break\n",
    "            elif a == 2:\n",
    "                Register()\n",
    "                break\n",
    "            elif a == 3:\n",
    "                break\n",
    "            else:\n",
    "                if i < 3:\n",
    "                    print('Invalid selection, select any available option')\n",
    "                    print(f'Only {3 - i} chances left')\n",
    "                else:\n",
    "                    print('3 chances exceeded, start again')\n",
    "                    Main()  # Recursive call if chances exceeded\n"
   ]
  },
  {
   "cell_type": "code",
   "execution_count": 6,
   "id": "69084864-5525-4d21-ae6a-1d7450157dcd",
   "metadata": {},
   "outputs": [],
   "source": [
    "data.clear()"
   ]
  },
  {
   "cell_type": "code",
   "execution_count": 57,
   "id": "5e76f05d-0a97-4426-81bd-a90378e26b43",
   "metadata": {},
   "outputs": [
    {
     "name": "stdin",
     "output_type": "stream",
     "text": [
      "Enter username:  n\n",
      "Enter name:  755\n",
      "Enter mobile:  755\n",
      "Enter email:  rs\n",
      "Enter password:  123\n"
     ]
    }
   ],
   "source": [
    "Register()"
   ]
  },
  {
   "cell_type": "code",
   "execution_count": 60,
   "id": "d3571bc6-bb15-4440-9efb-cba0b9c9051e",
   "metadata": {},
   "outputs": [
    {
     "name": "stdin",
     "output_type": "stream",
     "text": [
      "Enter username:  nith\n",
      "Enter name:  hh\n",
      "Enter mobile:  755\n",
      "Enter email:  rs\n",
      "Enter password:  123\n"
     ]
    }
   ],
   "source": [
    "Register()"
   ]
  },
  {
   "cell_type": "code",
   "execution_count": 61,
   "id": "fe1d4699-0ebf-4a23-a27f-2763476a0776",
   "metadata": {},
   "outputs": [
    {
     "name": "stdin",
     "output_type": "stream",
     "text": [
      "Enter username:  nitheshrs\n",
      "Enter name:  RSNithesh\n",
      "Enter mobile:  755\n",
      "Enter email:  rsnithesh27\n",
      "Enter password:  123\n"
     ]
    }
   ],
   "source": [
    "Register()"
   ]
  },
  {
   "cell_type": "code",
   "execution_count": 6,
   "id": "26eb2263-028f-4899-a6f6-8244de51e551",
   "metadata": {},
   "outputs": [],
   "source": [
    "def Main():\n",
    "    for i in range(1, 4):\n",
    "        a = int(input('''\n",
    "    Select any option:\n",
    "    1 = Login \n",
    "    2 = Register with new Username\n",
    "    3 = Exit'''))\n",
    "        if a == 1:\n",
    "            Login()\n",
    "            break\n",
    "        elif a == 2:\n",
    "            Register()\n",
    "            break\n",
    "        elif a == 3:\n",
    "            break\n",
    "        else:\n",
    "            if i < 3:\n",
    "                print('Invalid selection, select any available option')\n",
    "                print(f'Only {3 - i} chances left')\n",
    "            else:\n",
    "                print('3 chances exceeded, start again')\n",
    "                Main()  # Recursive call if chances exceeded"
   ]
  },
  {
   "cell_type": "code",
   "execution_count": 7,
   "id": "ac277ff0-1953-4477-9d5f-45f61849ba7a",
   "metadata": {},
   "outputs": [],
   "source": [
    "def Register():\n",
    "    username = input('Enter username: ')\n",
    "    if username in data.keys():\n",
    "        print('This username already exists.')\n",
    "        for i in range(1, 4):\n",
    "            a = int(input('''\n",
    "    Select any option:\n",
    "    1 = Login\n",
    "    2 = Register with new Username\n",
    "    3 = Exit\n",
    "    '''))\n",
    "            if a == 1:\n",
    "                Login()\n",
    "                return\n",
    "            elif a == 2:\n",
    "                Register()\n",
    "                return\n",
    "            elif a == 3:\n",
    "                return\n",
    "            else:\n",
    "                if i < 3:\n",
    "                    print('Invalid selection, select any available option')\n",
    "                    print(f'Only {3 - i} chances left')\n",
    "                else:\n",
    "                    print('3 chances exceeded, returning to main menu')\n",
    "                    Main()\n",
    "                    return\n",
    "    else:\n",
    "        # Collect user details for new registration\n",
    "        name = input('Enter name: ')\n",
    "        mobile = str(input('Enter mobile: '))\n",
    "        email = input('Enter email: ')\n",
    "        password = input('Enter password: ')\n",
    "        data[username] = {\n",
    "            'name': name,\n",
    "            'mobile': mobile,\n",
    "            'email': email,\n",
    "            'password': password\n",
    "        }\n",
    "        print('Registration successful!')\n",
    "        for i in range(1, 4):\n",
    "            a = int(input('''\n",
    "    Select any option:\n",
    "    1 = Login\n",
    "    2 = Register with new Username\n",
    "    3 = Exit\n",
    "    '''))\n",
    "            if a == 1:\n",
    "                Login()\n",
    "                return\n",
    "            elif a == 2:\n",
    "                Register()\n",
    "                return\n",
    "            elif a == 3:\n",
    "                return\n",
    "            else:\n",
    "                if i < 3:\n",
    "                    print('Invalid selection, select any available option')\n",
    "                    print(f'Only {3 - i} chances left')\n",
    "                else:\n",
    "                    print('3 chances exceeded, returning to main menu')\n",
    "                    Main()\n",
    "                    return\n",
    "\n",
    "\n",
    "def Login():\n",
    "    print('You are in the login page.')\n",
    "\n",
    "\n",
    "# Assuming 'data' and 'Main' are defined elsewhere in the program\n",
    "data = {}  # Example dictionary to hold user data\n"
   ]
  },
  {
   "cell_type": "code",
   "execution_count": 70,
   "id": "1e2de5d8-8e39-43d8-a156-d2af4dda3aef",
   "metadata": {},
   "outputs": [
    {
     "name": "stdin",
     "output_type": "stream",
     "text": [
      "Enter username:  j\n",
      "Enter name:  h\n",
      "Enter mobile:  766\n",
      "Enter email:  rss\n",
      "Enter password:  88\n"
     ]
    },
    {
     "name": "stdout",
     "output_type": "stream",
     "text": [
      "Registration successful!\n"
     ]
    },
    {
     "name": "stdin",
     "output_type": "stream",
     "text": [
      "\n",
      "    Select any option:\n",
      "    1 = Login\n",
      "    2 = Register with new Username\n",
      "    3 = Exit\n",
      "     3\n"
     ]
    }
   ],
   "source": [
    "Register()"
   ]
  },
  {
   "cell_type": "code",
   "execution_count": 71,
   "id": "be9a7b7f-1971-47ea-9ae5-1c68a9efec26",
   "metadata": {},
   "outputs": [
    {
     "name": "stdin",
     "output_type": "stream",
     "text": [
      "Enter username:  rsnithu\n",
      "Enter name:  nithesh\n",
      "Enter mobile:  7550280903\n",
      "Enter email:  rsnitheshgamerstamil@gmail.com\n",
      "Enter password:  12356\n"
     ]
    },
    {
     "name": "stdout",
     "output_type": "stream",
     "text": [
      "Registration successful!\n"
     ]
    },
    {
     "name": "stdin",
     "output_type": "stream",
     "text": [
      "\n",
      "    Select any option:\n",
      "    1 = Login\n",
      "    2 = Register with new Username\n",
      "    3 = Exit\n",
      "     1\n"
     ]
    },
    {
     "name": "stdout",
     "output_type": "stream",
     "text": [
      "You are in the login page.\n"
     ]
    }
   ],
   "source": [
    "Register()"
   ]
  },
  {
   "cell_type": "code",
   "execution_count": 8,
   "id": "ddb98b80-ccea-43ea-b0d2-6ffd4c9df2ae",
   "metadata": {},
   "outputs": [],
   "source": [
    "def Main():\n",
    "    for i in range(1, 4):\n",
    "        a = int(input('''\n",
    "    Select any option:\n",
    "    1 = Login with existing username\n",
    "    2 = Register with new Username\n",
    "    3 = Exit\n",
    "    '''))\n",
    "        if a == 1:\n",
    "            Login()\n",
    "            break\n",
    "        elif a == 2:\n",
    "            Register()\n",
    "            break\n",
    "        elif a == 3:\n",
    "            break\n",
    "        else:\n",
    "            if i < 3:\n",
    "                print('Invalid selection, select any available option')\n",
    "                print(f'Only {3 - i} chances left')\n",
    "            else:\n",
    "                print('3 chances exceeded, start again')\n",
    "                Main()  # Recursive call if chances exceeded\n"
   ]
  },
  {
   "cell_type": "code",
   "execution_count": 9,
   "id": "08ba4d40-4dad-48ee-a0a3-380455fbec53",
   "metadata": {},
   "outputs": [],
   "source": [
    "data = {}  # Assuming 'data' is a global dictionary to store user details\n",
    "\n",
    "def Register():\n",
    "    username = input('Enter username: ')\n",
    "    if username in data.keys():\n",
    "        print('This username already exists.')\n",
    "        for i in range(1, 4):\n",
    "            a = int(input('''\n",
    "    Select any option:\n",
    "    1 = Login\n",
    "    2 = Register with new Username\n",
    "    3 = Exit\n",
    "    '''))\n",
    "            if a == 1:\n",
    "                Login()\n",
    "                break\n",
    "            elif a == 2:\n",
    "                Register()\n",
    "                break\n",
    "            elif a == 3:\n",
    "                return\n",
    "            else:\n",
    "                if i < 3:\n",
    "                    print('Invalid selection, select any available option')\n",
    "                    print(f'Only {3 - i} chances left')\n",
    "                else:\n",
    "                    print('3 chances exceeded, start again')\n",
    "                    Main()\n",
    "    else:\n",
    "        # Collect user details\n",
    "        name = input('Enter name: ')\n",
    "        mobile = str(int(input('Enter mobile: ')))\n",
    "        email = input('Enter email: ')\n",
    "        password = input('Enter password: ')\n",
    "        data[username] = {\n",
    "            'name': name,\n",
    "            'mobile': mobile,\n",
    "            'email': email,\n",
    "            'password': password\n",
    "        }\n",
    "        print('Registration successful!')\n",
    "        for i in range(1, 4):\n",
    "            a = int(input('''\n",
    "    Select any option:\n",
    "    1 = Login\n",
    "    2 = Register with new Username\n",
    "    3 = Exit\n",
    "    '''))\n",
    "            if a == 1:\n",
    "                Login()\n",
    "                break\n",
    "            elif a == 2:\n",
    "                Register()\n",
    "                break\n",
    "            elif a == 3:\n",
    "                return\n",
    "            else:\n",
    "                if i < 3:\n",
    "                    print('Invalid selection, select any available option')\n",
    "                    print(f'Only {3 - i} chances left')\n",
    "                else:\n",
    "                    print('3 chances exceeded, start again')\n",
    "                    Main()\n",
    "\n",
    "def Login():\n",
    "    print('You are in the login page.')\n",
    "\n",
    "def Main():\n",
    "    for i in range(1, 4):\n",
    "        a = int(input('''\n",
    "Select any option:\n",
    "1 = Login with existing username\n",
    "2 = Register with new Username\n",
    "3 = Exit\n",
    "'''))\n",
    "        if a == 1:\n",
    "            Login()\n",
    "            break\n",
    "        elif a == 2:\n",
    "            Register()\n",
    "            break\n",
    "        elif a == 3:\n",
    "            break\n",
    "        else:\n",
    "            if i < 3:\n",
    "                print('Invalid selection, select any available option')\n",
    "                print(f'Only {3 - i} chances left')\n",
    "            else:\n",
    "                print('3 chances exceeded, start again')\n",
    "                Main()\n",
    "\n",
    "def Login():\n",
    "    print('You are in the login page.')\n",
    "\n",
    "# Example dictionary initialization for testing\n",
    "data = {}\n",
    "\n",
    "# Uncomment the following line to start the application\n",
    "# Main()\n"
   ]
  },
  {
   "cell_type": "code",
   "execution_count": 74,
   "id": "d469f9b6-eec6-44f4-9302-3edc9dcfd0cc",
   "metadata": {},
   "outputs": [
    {
     "name": "stdin",
     "output_type": "stream",
     "text": [
      "\n",
      "Select any option:\n",
      "1 = Login with existing username\n",
      "2 = Register with new Username\n",
      "3 = Exit\n",
      " 3\n"
     ]
    }
   ],
   "source": [
    "Main()"
   ]
  },
  {
   "cell_type": "code",
   "execution_count": 67,
   "id": "cb9277b6-d9c2-4978-b08b-68e0e3525177",
   "metadata": {},
   "outputs": [
    {
     "data": {
      "text/plain": [
       "{}"
      ]
     },
     "execution_count": 67,
     "metadata": {},
     "output_type": "execute_result"
    }
   ],
   "source": [
    "data"
   ]
  },
  {
   "cell_type": "code",
   "execution_count": 68,
   "id": "8a37361f-303e-4260-8740-a139c3cc2b8c",
   "metadata": {},
   "outputs": [
    {
     "name": "stdin",
     "output_type": "stream",
     "text": [
      "Enter username:  6\n",
      "Enter name:  7\n",
      "Enter mobile:  8\n",
      "Enter email:  8\n",
      "Enter password:  8\n"
     ]
    },
    {
     "name": "stdout",
     "output_type": "stream",
     "text": [
      "Registration successful!\n"
     ]
    },
    {
     "name": "stdin",
     "output_type": "stream",
     "text": [
      "\n",
      "    Select any option:\n",
      "    1 = Login\n",
      "    2 = Register with new Username\n",
      "    3 = Exit\n",
      "     3\n"
     ]
    }
   ],
   "source": [
    "Register()"
   ]
  },
  {
   "cell_type": "markdown",
   "id": "5de6053d-beb4-40ed-907a-9dddb485531c",
   "metadata": {},
   "source": [
    "# Login\n"
   ]
  },
  {
   "cell_type": "code",
   "execution_count": 10,
   "id": "2ef10b84-4289-4ede-9501-e3b0cd5f2572",
   "metadata": {},
   "outputs": [],
   "source": [
    "def Login():\n",
    "    username = input('enter username:')\n",
    "    password = input('enter password:')\n",
    "    if username in data.keys() and password == data[username]['password']:\n",
    "        print('login successful')"
   ]
  },
  {
   "cell_type": "code",
   "execution_count": 11,
   "id": "2b75b459-7e71-45f2-9c27-098afaf376b3",
   "metadata": {},
   "outputs": [],
   "source": [
    "data = {}"
   ]
  },
  {
   "cell_type": "code",
   "execution_count": 19,
   "id": "70c2a956-1ce7-428e-b756-66d0cd5d6b6f",
   "metadata": {},
   "outputs": [
    {
     "name": "stdin",
     "output_type": "stream",
     "text": [
      "\n",
      "Select any option:\n",
      "1 = Login with existing username\n",
      "2 = Register with new Username\n",
      "3 = Exit\n",
      " 3\n"
     ]
    }
   ],
   "source": [
    "Main()"
   ]
  },
  {
   "cell_type": "code",
   "execution_count": 20,
   "id": "4378ad22-2491-40e7-aae1-e28a2a39cb97",
   "metadata": {},
   "outputs": [
    {
     "name": "stdin",
     "output_type": "stream",
     "text": [
      "enter username: hh\n",
      "enter password: 67\n"
     ]
    }
   ],
   "source": [
    "Login()"
   ]
  },
  {
   "cell_type": "code",
   "execution_count": 12,
   "id": "38d4a835-9699-457a-b17c-3a2f0c50ec65",
   "metadata": {},
   "outputs": [],
   "source": [
    "def Login():\n",
    "    username = input('enter Username:')\n",
    "    password = input('enter password:')\n",
    "    if username in data.keys() and Password == data[username]['password']:\n",
    "        print('login successful')\n",
    "    else:\n",
    "        print('invalid user')"
   ]
  },
  {
   "cell_type": "code",
   "execution_count": 23,
   "id": "8195bda9-193f-4f2b-b943-47cc629036de",
   "metadata": {},
   "outputs": [
    {
     "name": "stdin",
     "output_type": "stream",
     "text": [
      "enter Username: jjk\n",
      "enter password: naruto\n"
     ]
    },
    {
     "name": "stdout",
     "output_type": "stream",
     "text": [
      "invalid user\n"
     ]
    }
   ],
   "source": [
    "Login()"
   ]
  },
  {
   "cell_type": "code",
   "execution_count": 13,
   "id": "137d099c-d42f-4d52-9bdc-b3f947f2c98a",
   "metadata": {},
   "outputs": [],
   "source": [
    "def Login():\n",
    "    username = input('Enter Username:')\n",
    "\n",
    "    if username in data.keys():\n",
    "        password = input('Enter Password:')\n",
    "        if password == data[username]['password']:\n",
    "            print('login successful')\n",
    "        else:\n",
    "            print('incorrect password')\n",
    "    else:\n",
    "        print('invalid user')"
   ]
  },
  {
   "cell_type": "code",
   "execution_count": 25,
   "id": "834880f2-6673-4f60-815a-f6663b05e7d6",
   "metadata": {},
   "outputs": [
    {
     "name": "stdin",
     "output_type": "stream",
     "text": [
      "Enter Username: hi'\n"
     ]
    },
    {
     "name": "stdout",
     "output_type": "stream",
     "text": [
      "invalid user\n"
     ]
    }
   ],
   "source": [
    "Login()"
   ]
  },
  {
   "cell_type": "code",
   "execution_count": 26,
   "id": "4d1c2222-6d9c-45ae-afa6-320e62767b7c",
   "metadata": {},
   "outputs": [
    {
     "name": "stdin",
     "output_type": "stream",
     "text": [
      "Enter Username: kaashiv\n"
     ]
    },
    {
     "name": "stdout",
     "output_type": "stream",
     "text": [
      "invalid user\n"
     ]
    }
   ],
   "source": [
    "Login()"
   ]
  },
  {
   "cell_type": "code",
   "execution_count": 27,
   "id": "efbef84c-7a71-413e-9ca7-5e20dd95ae45",
   "metadata": {},
   "outputs": [
    {
     "name": "stdin",
     "output_type": "stream",
     "text": [
      "Enter Username: jjl\n"
     ]
    },
    {
     "name": "stdout",
     "output_type": "stream",
     "text": [
      "invalid user\n"
     ]
    }
   ],
   "source": [
    "Login()"
   ]
  },
  {
   "cell_type": "code",
   "execution_count": 14,
   "id": "054d077b-b805-4db3-918d-8f830dfdf86c",
   "metadata": {},
   "outputs": [],
   "source": [
    "def Login():\n",
    "    username = input('Enter username: ')\n",
    "\n",
    "    if username in data.keys():\n",
    "        for i in range(1, 4):\n",
    "            password = input('Enter password: ')\n",
    "            if password == data[username]['password']:\n",
    "                print('Login Successful')\n",
    "                options()  # Assuming `options` is defined elsewhere\n",
    "                break\n",
    "            else:\n",
    "                if i < 3:\n",
    "                    print('Incorrect Password')\n",
    "                    print(f'Only {3 - i} chances left')\n",
    "                else:\n",
    "                    print('3 chances exceeded, start again')\n",
    "                    Main()\n",
    "                    break\n",
    "    else:\n",
    "        print('Invalid user')\n",
    "        for i in range(1, 4):\n",
    "            a = int(input('''\n",
    "        Select any option:\n",
    "        1 = Login with correct credentials\n",
    "        2 = Register with new username\n",
    "        3 = Exit\n",
    "        '''))\n",
    "            if a == 1:\n",
    "                Login()\n",
    "                break\n",
    "            elif a == 2:\n",
    "                Register()\n",
    "                break\n",
    "            elif a == 3:\n",
    "                return  # Exit the function\n",
    "            else:\n",
    "                if i < 3:\n",
    "                    print('Invalid selection, select any available option')\n",
    "                    print(f'Only {3 - i} chances left')\n",
    "                else:\n",
    "                    print('3 chances exceeded, start again')\n",
    "                    Main()\n",
    "                    break\n"
   ]
  },
  {
   "cell_type": "code",
   "execution_count": 29,
   "id": "4b2995a6-7844-4188-b10c-bee5b65cee02",
   "metadata": {},
   "outputs": [
    {
     "name": "stdin",
     "output_type": "stream",
     "text": [
      "Enter Username: jjk\n"
     ]
    },
    {
     "name": "stdout",
     "output_type": "stream",
     "text": [
      "invalid user\n"
     ]
    }
   ],
   "source": [
    "Login()"
   ]
  },
  {
   "cell_type": "code",
   "execution_count": 15,
   "id": "d8a1972a-7c4f-4e82-b290-2050e72a3403",
   "metadata": {},
   "outputs": [],
   "source": [
    "def options():\n",
    "    print('you are in options page')"
   ]
  },
  {
   "cell_type": "code",
   "execution_count": 32,
   "id": "78fe41c5-0c4a-4e3e-b582-0f7b3428627c",
   "metadata": {},
   "outputs": [
    {
     "name": "stdin",
     "output_type": "stream",
     "text": [
      "Enter Username: jjk\n"
     ]
    },
    {
     "name": "stdout",
     "output_type": "stream",
     "text": [
      "invalid user\n"
     ]
    }
   ],
   "source": [
    "Login()"
   ]
  },
  {
   "cell_type": "code",
   "execution_count": 16,
   "id": "63f8e042-b648-43b0-a427-8a1a794bafec",
   "metadata": {},
   "outputs": [],
   "source": [
    "def Login():\n",
    "    username = input('Enter username: ')\n",
    "\n",
    "    if username in data.keys():\n",
    "        for i in range(1, 4):\n",
    "            password = input('Enter password: ')\n",
    "            if password == data[username]['password']:\n",
    "                print('Login Successful')\n",
    "                options(username)  # Assuming `options` is defined elsewhere\n",
    "                break\n",
    "            else:\n",
    "                if i < 3:\n",
    "                    print('Incorrect Password')\n",
    "                    print(f'Only {3 - i} chances left')\n",
    "                else:\n",
    "                    print('3 chances exceeded, start again')\n",
    "                    Main()\n",
    "                    break\n",
    "    else:\n",
    "        print('Invalid user')\n",
    "        for i in range(1, 4):\n",
    "            a = int(input('''\n",
    "        Select any option:\n",
    "        1 = Login with correct credentials\n",
    "        2 = Register with new username\n",
    "        3 = Exit\n",
    "        '''))\n",
    "            if a == 1:\n",
    "                Login()\n",
    "                break\n",
    "            elif a == 2:\n",
    "                Register()\n",
    "                break\n",
    "            elif a == 3:\n",
    "                return  # Exit the function\n",
    "            else:\n",
    "                if i < 3:\n",
    "                    print('Invalid selection, select any available option')\n",
    "                    print(f'Only {3 - i} chances left')\n",
    "                else:\n",
    "                    print('3 chances exceeded, start again')\n",
    "                    Main()\n",
    "                    break\n"
   ]
  },
  {
   "cell_type": "code",
   "execution_count": 35,
   "id": "07d72069-4c02-4012-a562-02d371c0110d",
   "metadata": {},
   "outputs": [
    {
     "name": "stdin",
     "output_type": "stream",
     "text": [
      "Enter username:  h\n"
     ]
    },
    {
     "name": "stdout",
     "output_type": "stream",
     "text": [
      "Invalid user\n"
     ]
    },
    {
     "name": "stdin",
     "output_type": "stream",
     "text": [
      "\n",
      "        Select any option:\n",
      "        1 = Login with correct credentials\n",
      "        2 = Register with new username\n",
      "        3 = Exit\n",
      "         8\n"
     ]
    },
    {
     "name": "stdout",
     "output_type": "stream",
     "text": [
      "Invalid selection, select any available option\n",
      "Only 2 chances left\n"
     ]
    },
    {
     "name": "stdin",
     "output_type": "stream",
     "text": [
      "\n",
      "        Select any option:\n",
      "        1 = Login with correct credentials\n",
      "        2 = Register with new username\n",
      "        3 = Exit\n",
      "         3\n"
     ]
    }
   ],
   "source": [
    "Login()"
   ]
  },
  {
   "cell_type": "code",
   "execution_count": 36,
   "id": "8ad38dd4-6a93-4f81-b4dc-fc41aeeec68f",
   "metadata": {},
   "outputs": [
    {
     "name": "stdin",
     "output_type": "stream",
     "text": [
      "Enter username:  u\n"
     ]
    },
    {
     "name": "stdout",
     "output_type": "stream",
     "text": [
      "Invalid user\n"
     ]
    },
    {
     "name": "stdin",
     "output_type": "stream",
     "text": [
      "\n",
      "        Select any option:\n",
      "        1 = Login with correct credentials\n",
      "        2 = Register with new username\n",
      "        3 = Exit\n",
      "         2\n",
      "Enter username:  y\n",
      "Enter name:  n\n",
      "Enter mobile:  7666\n",
      "Enter email:  rsnithesh\n",
      "Enter password:  7667\n"
     ]
    },
    {
     "name": "stdout",
     "output_type": "stream",
     "text": [
      "Registration successful!\n"
     ]
    },
    {
     "name": "stdin",
     "output_type": "stream",
     "text": [
      "\n",
      "    Select any option:\n",
      "    1 = Login\n",
      "    2 = Register with new Username\n",
      "    3 = Exit\n",
      "     1\n",
      "Enter username:  y\n",
      "Enter password:  n\n"
     ]
    },
    {
     "name": "stdout",
     "output_type": "stream",
     "text": [
      "Incorrect Password\n",
      "Only 2 chances left\n"
     ]
    },
    {
     "name": "stdin",
     "output_type": "stream",
     "text": [
      "Enter password:  7666\n"
     ]
    },
    {
     "name": "stdout",
     "output_type": "stream",
     "text": [
      "Incorrect Password\n",
      "Only 1 chances left\n"
     ]
    },
    {
     "name": "stdin",
     "output_type": "stream",
     "text": [
      "Enter password:  7667\n"
     ]
    },
    {
     "name": "stdout",
     "output_type": "stream",
     "text": [
      "Login Successful\n",
      "you are in options page\n"
     ]
    }
   ],
   "source": [
    "Login()"
   ]
  },
  {
   "cell_type": "code",
   "execution_count": 37,
   "id": "e2f86ed6-f95f-445d-b2f7-0eace0ae0f37",
   "metadata": {},
   "outputs": [
    {
     "name": "stdout",
     "output_type": "stream",
     "text": [
      "you are in options page\n"
     ]
    }
   ],
   "source": [
    "options()"
   ]
  },
  {
   "cell_type": "code",
   "execution_count": 17,
   "id": "9061a86f-0ab7-4949-a777-8cfdbd7817cd",
   "metadata": {},
   "outputs": [],
   "source": [
    "def options(name):\n",
    "    for i in range(1, 4):\n",
    "        a = int(input('''\n",
    "        Select any option:\n",
    "        1 = EB Bill Calculator\n",
    "        2 = History\n",
    "        3 = View\n",
    "        4 = Change Info\n",
    "        5 = Log Out\n",
    "        '''))\n",
    "        if a == 1:\n",
    "            EB(name)  # Assuming EB function is defined elsewhere\n",
    "            break\n",
    "        elif a == 2:\n",
    "            History(name)  # Assuming History function is defined elsewhere\n",
    "            break\n",
    "        elif a == 3:\n",
    "            View(name)  # Assuming View function is defined elsewhere\n",
    "            break\n",
    "        elif a == 4:\n",
    "            Change_info(name)  # Assuming Change_info function is defined elsewhere\n",
    "            break\n",
    "        elif a == 5:\n",
    "            Main()  # Redirect to Main menu\n",
    "            break\n",
    "        else:\n",
    "            if i < 3:\n",
    "                print('Invalid selection, select any available option')\n",
    "                print(f'Only {3 - i} chances left')\n",
    "            else:\n",
    "                print('3 chances exceeded, start again')\n",
    "                Main()  # Redirect to Main menu after 3 invalid attempts\n",
    "\n",
    "           \n",
    "        "
   ]
  },
  {
   "cell_type": "code",
   "execution_count": 18,
   "id": "52553d6e-4397-4bcb-9715-e222aaea949d",
   "metadata": {},
   "outputs": [],
   "source": [
    "def EB():\n",
    "    print('EB page')\n",
    "def History():\n",
    "    print('history page')\n",
    "def View():\n",
    "    print('view page')\n",
    "def Change_info():\n",
    "    print('change_info page')"
   ]
  },
  {
   "cell_type": "code",
   "execution_count": 43,
   "id": "8ced9c03-2f19-47ea-a264-904fcda4a7d0",
   "metadata": {},
   "outputs": [
    {
     "name": "stdin",
     "output_type": "stream",
     "text": [
      "Enter username:  Nithesh\n"
     ]
    },
    {
     "name": "stdout",
     "output_type": "stream",
     "text": [
      "Invalid user\n"
     ]
    },
    {
     "name": "stdin",
     "output_type": "stream",
     "text": [
      "\n",
      "        Select any option:\n",
      "        1 = Login with correct credentials\n",
      "        2 = Register with new username\n",
      "        3 = Exit\n",
      "         1\n",
      "Enter username:  y\n",
      "Enter password:  7667\n"
     ]
    },
    {
     "name": "stdout",
     "output_type": "stream",
     "text": [
      "Login Successful\n"
     ]
    },
    {
     "name": "stdin",
     "output_type": "stream",
     "text": [
      "\n",
      "        Select any option:\n",
      "        1 = EB Bill Calculator\n",
      "        2 = History\n",
      "        3 = View\n",
      "        4 = Change Info\n",
      "        5 = Log Out\n",
      "         1\n"
     ]
    },
    {
     "name": "stdout",
     "output_type": "stream",
     "text": [
      "EB page\n"
     ]
    }
   ],
   "source": [
    "Login()"
   ]
  },
  {
   "cell_type": "code",
   "execution_count": null,
   "id": "697c4eb4-dd78-4fdf-a5ed-1c225afaf2b8",
   "metadata": {},
   "outputs": [],
   "source": [
    "for i in range(5):\n",
    "    options('nithesh')"
   ]
  },
  {
   "cell_type": "code",
   "execution_count": 23,
   "id": "6fb522ae-712f-406b-805f-512e13fccb47",
   "metadata": {},
   "outputs": [
    {
     "data": {
      "text/plain": [
       "{}"
      ]
     },
     "execution_count": 23,
     "metadata": {},
     "output_type": "execute_result"
    }
   ],
   "source": [
    "data"
   ]
  },
  {
   "cell_type": "code",
   "execution_count": 19,
   "id": "9da947ae-dd7c-42df-8975-e46332d44402",
   "metadata": {},
   "outputs": [],
   "source": [
    "def EB():\n",
    "    units = float(input('enter total units consumed:'))\n",
    "\n",
    "    if units<=100:\n",
    "        amt = 0\n",
    "        sur = 0\n",
    "    elif 100<units<=200:\n",
    "        amt = 0+(units-100)*2\n",
    "        sur = 10\n",
    "    elif 200<units<=300:\n",
    "        amt = 0 + 200 + (units-200)*3\n",
    "        sur = 20\n",
    "    elif 300<units<=400:\n",
    "        amt = 0 + 200 + 300 + (units-300)*4\n",
    "        sur = 30\n",
    "    else:\n",
    "        amt = 0 + 200 + 300 + 400 + (units-400)*5\n",
    "        sur = 50\n",
    "    print(f'''hello user,the total bill amount for using {units} units\n",
    "                    is rs.{amt+sur}''')"
   ]
  },
  {
   "cell_type": "code",
   "execution_count": 26,
   "id": "ca96030d-0986-4808-9dc0-7e7db5c7f2ff",
   "metadata": {},
   "outputs": [
    {
     "name": "stdin",
     "output_type": "stream",
     "text": [
      "enter total units consumed: 3\n"
     ]
    },
    {
     "name": "stdout",
     "output_type": "stream",
     "text": [
      "hello user,the total bill amount for using 3.0 units\n",
      "                    is rs.0\n"
     ]
    }
   ],
   "source": [
    "EB()"
   ]
  },
  {
   "cell_type": "code",
   "execution_count": 23,
   "id": "7c85b85a-05bc-4d5f-a9bd-a7814bb68ba4",
   "metadata": {},
   "outputs": [
    {
     "name": "stdin",
     "output_type": "stream",
     "text": [
      "Enter username:  nithesh\n",
      "Enter name:  nithesh\n",
      "Enter mobile:  7\n",
      "Enter email:  r\n",
      "Enter password:  123\n"
     ]
    },
    {
     "name": "stdout",
     "output_type": "stream",
     "text": [
      "Registration successful!\n"
     ]
    },
    {
     "name": "stdin",
     "output_type": "stream",
     "text": [
      "\n",
      "    Select any option:\n",
      "    1 = Login\n",
      "    2 = Register with new Username\n",
      "    3 = Exit\n",
      "     1\n",
      "Enter username:  nithesh\n",
      "Enter password:  123\n"
     ]
    },
    {
     "name": "stdout",
     "output_type": "stream",
     "text": [
      "Login Successful\n"
     ]
    },
    {
     "name": "stdin",
     "output_type": "stream",
     "text": [
      "\n",
      "        Select any option:\n",
      "        1 = EB Bill Calculator\n",
      "        2 = History\n",
      "        3 = View\n",
      "        4 = Change Info\n",
      "        5 = Log Out\n",
      "         5\n",
      "\n",
      "Select any option:\n",
      "1 = Login with existing username\n",
      "2 = Register with new Username\n",
      "3 = Exit\n",
      " 3\n"
     ]
    }
   ],
   "source": [
    "Register()"
   ]
  },
  {
   "cell_type": "code",
   "execution_count": 83,
   "id": "f0da5ee0-cc59-4bfa-b83b-9eb32b77a369",
   "metadata": {},
   "outputs": [],
   "source": [
    "data.clear()"
   ]
  },
  {
   "cell_type": "code",
   "execution_count": 24,
   "id": "035d8863-4317-40ed-8c01-55692142f5ee",
   "metadata": {},
   "outputs": [
    {
     "data": {
      "text/plain": [
       "{'nithesh': {'name': 'nithesh',\n",
       "  'mobile': '7',\n",
       "  'email': 'r',\n",
       "  'password': '123'}}"
      ]
     },
     "execution_count": 24,
     "metadata": {},
     "output_type": "execute_result"
    }
   ],
   "source": [
    "data"
   ]
  },
  {
   "cell_type": "code",
   "execution_count": 85,
   "id": "a55827d1-ec6a-4070-bb44-2a1b14fd63b6",
   "metadata": {},
   "outputs": [
    {
     "name": "stdin",
     "output_type": "stream",
     "text": [
      "\n",
      "Select any option:\n",
      "1 = Login with existing username\n",
      "2 = Register with new Username\n",
      "3 = Exit\n",
      " 2\n",
      "Enter username:  nithesh\n",
      "Enter name:  nithesh\n",
      "Enter mobile:  888\n",
      "Enter email:  rs\n",
      "Enter password:  123\n"
     ]
    },
    {
     "name": "stdout",
     "output_type": "stream",
     "text": [
      "registration successful\n"
     ]
    },
    {
     "name": "stdin",
     "output_type": "stream",
     "text": [
      "\n",
      "    Select any option:\n",
      "    1 = Login\n",
      "    2 = Register with new Username\n",
      "    3 = Exit\n",
      "     1\n"
     ]
    },
    {
     "name": "stdout",
     "output_type": "stream",
     "text": [
      "You are in the login page.\n"
     ]
    }
   ],
   "source": [
    "Main()"
   ]
  },
  {
   "cell_type": "code",
   "execution_count": 86,
   "id": "e2bab229-28db-4e85-8732-8e42f7e61ca1",
   "metadata": {},
   "outputs": [
    {
     "data": {
      "text/plain": [
       "{'nithesh': {'PI': {'name': 'nithesh',\n",
       "   'mobile': '888',\n",
       "   'email': 'rs',\n",
       "   'password': '123'},\n",
       "  'EB_bills': {}}}"
      ]
     },
     "execution_count": 86,
     "metadata": {},
     "output_type": "execute_result"
    }
   ],
   "source": [
    "data"
   ]
  },
  {
   "cell_type": "code",
   "execution_count": 40,
   "id": "ebcb6080-8383-4629-bef7-1224718827f9",
   "metadata": {},
   "outputs": [],
   "source": [
    "def EB(name):\n",
    "    year =int(input('enter year:'))\n",
    "    m = {i:j for i,j in zip(range(1,13),['Jan','Feb','Mar','Apr','May','Jun','Jul','Aug','Sep','Oct','Nov','Dec'])}\n",
    "    for i,j in m.items():\n",
    "        print(i,'=',j)\n",
    "    month =int(input('enter month number:'))\n",
    "    units = float(input('enter total units consumed:'))\n",
    "    if units<=100:\n",
    "        amt = 0\n",
    "        sur = 0\n",
    "    elif 100<units<=200:\n",
    "        amt = 0+(units-100)*2\n",
    "        sur = 10\n",
    "    elif 200<units<=300:\n",
    "        amt = 0 + 200 + (units-200)*3\n",
    "        sur = 20\n",
    "    elif 300<units<=400:\n",
    "        amt = 0 + 200 + 300 + (units-300)*4\n",
    "        sur = 30\n",
    "    else:\n",
    "        amt = 0 + 200 + 300 + 400 + (units-400)*5\n",
    "        sur = 50\n",
    "    print(f'''hello user,the total bill amount for using {units} units\n",
    "                    is rs.{amt+sur}''')\n",
    "    data[name]['EB_bills']['units']=units\n",
    "    data[name]['EB_bills']['bill']=amt+sur"
   ]
  },
  {
   "cell_type": "code",
   "execution_count": 41,
   "id": "de435098-711c-47d1-971d-ef0fff7b5029",
   "metadata": {},
   "outputs": [
    {
     "data": {
      "text/plain": [
       "{'EB_bills': {'units': 120, 'bill': 190.0}}"
      ]
     },
     "execution_count": 41,
     "metadata": {},
     "output_type": "execute_result"
    }
   ],
   "source": [
    "data"
   ]
  },
  {
   "cell_type": "code",
   "execution_count": 42,
   "id": "53fc9d55-34e8-40e4-bc08-7369b071b878",
   "metadata": {},
   "outputs": [],
   "source": [
    "m = {i:j for i,j in zip(range(1,13),['Jan','Feb','Mar','Apr','May','Jun','Jul','Aug','Sep','Oct','Nov','Dec'])}"
   ]
  },
  {
   "cell_type": "code",
   "execution_count": 43,
   "id": "def1f435-a8b6-4247-8c55-3ed9e6a34f49",
   "metadata": {},
   "outputs": [
    {
     "data": {
      "text/plain": [
       "{1: 'Jan',\n",
       " 2: 'Feb',\n",
       " 3: 'Mar',\n",
       " 4: 'Apr',\n",
       " 5: 'May',\n",
       " 6: 'Jun',\n",
       " 7: 'Jul',\n",
       " 8: 'Aug',\n",
       " 9: 'Sep',\n",
       " 10: 'Oct',\n",
       " 11: 'Nov',\n",
       " 12: 'Dec'}"
      ]
     },
     "execution_count": 43,
     "metadata": {},
     "output_type": "execute_result"
    }
   ],
   "source": [
    "m"
   ]
  },
  {
   "cell_type": "code",
   "execution_count": 44,
   "id": "cc9d1ae3-40bf-4fe8-9a76-9e248f6877bd",
   "metadata": {},
   "outputs": [
    {
     "name": "stdout",
     "output_type": "stream",
     "text": [
      "1  =  Jan\n",
      "2  =  Feb\n",
      "3  =  Mar\n",
      "4  =  Apr\n",
      "5  =  May\n",
      "6  =  Jun\n",
      "7  =  Jul\n",
      "8  =  Aug\n",
      "9  =  Sep\n",
      "10  =  Oct\n",
      "11  =  Nov\n",
      "12  =  Dec\n"
     ]
    }
   ],
   "source": [
    "for i,j in m.items():\n",
    "    print(i,' = ',j)"
   ]
  },
  {
   "cell_type": "code",
   "execution_count": 59,
   "id": "a42006e9-41a5-4d70-b39b-77e84ec85da0",
   "metadata": {},
   "outputs": [],
   "source": [
    "def EB(name):\n",
    "    year = int(input('Enter year:'))\n",
    "    m = {i: j for i, j in zip(range(1, 13), ['Jan', 'Feb', 'Mar', 'Apr', 'May', 'Jun', \n",
    "                                             'Jul', 'Aug', 'Sep', 'Oct', 'Nov', 'Dec'])}\n",
    "    for i, j in m.items():\n",
    "        print(i, ' = ', j)\n",
    "    \n",
    "    month = m[int(input('Enter month number:'))]\n",
    "    units = float(input('Enter total units consumed:'))\n",
    "    \n",
    "    if units <= 100:\n",
    "        amt = 0\n",
    "        sur = 0\n",
    "    elif 100 < units <= 200:\n",
    "        amt = (units - 100) * 2\n",
    "        sur = 10\n",
    "    elif 200 < units <= 300:\n",
    "        amt = 200 + (units - 200) * 3\n",
    "        sur = 20\n",
    "    elif 300 < units <= 400:\n",
    "        amt = 200 + 300 + (units - 300) * 4\n",
    "        sur = 30\n",
    "    else:\n",
    "        amt = 200 + 300 + 400 + (units - 400) * 5\n",
    "        sur = 50\n",
    "    \n",
    "    print(f'''Hello {name}, the total bill amount for using {units} units\n",
    "                    is Rs. {amt + sur}''')\n",
    "   \n",
    "    global data\n",
    "    if 'EB_bills' not in data:\n",
    "        data['EB_bills'] = {}\n",
    "    data['EB_bills'][year] = {}\n",
    "    data['EB_bills'][year][month] = {}\n",
    "    data['EB_bills'][year][month]['units'] = units\n",
    "    data['EB_bills'][year][month]['bill'] = amt + sur\n",
    "\n",
    "data = {}\n"
   ]
  },
  {
   "cell_type": "code",
   "execution_count": 55,
   "id": "6be0595f-7948-49d4-badb-20758e8f42e9",
   "metadata": {},
   "outputs": [
    {
     "name": "stdin",
     "output_type": "stream",
     "text": [
      "Enter year: 2024\n"
     ]
    },
    {
     "name": "stdout",
     "output_type": "stream",
     "text": [
      "1 = Jan\n",
      "2 = Feb\n",
      "3 = Mar\n",
      "4 = Apr\n",
      "5 = May\n",
      "6 = Jun\n",
      "7 = Jul\n",
      "8 = Aug\n",
      "9 = Sep\n",
      "10 = Oct\n",
      "11 = Nov\n",
      "12 = Dec\n"
     ]
    },
    {
     "name": "stdin",
     "output_type": "stream",
     "text": [
      "Enter month number: 3\n",
      "Enter total units consumed: 120\n"
     ]
    },
    {
     "name": "stdout",
     "output_type": "stream",
     "text": [
      "Hello Nithesh, the total bill amount for using 120.0 units\n",
      "                    is Rs. 50.0\n"
     ]
    }
   ],
   "source": [
    "EB('Nithesh')"
   ]
  }
 ],
 "metadata": {
  "kernelspec": {
   "display_name": "Python 3 (ipykernel)",
   "language": "python",
   "name": "python3"
  },
  "language_info": {
   "codemirror_mode": {
    "name": "ipython",
    "version": 3
   },
   "file_extension": ".py",
   "mimetype": "text/x-python",
   "name": "python",
   "nbconvert_exporter": "python",
   "pygments_lexer": "ipython3",
   "version": "3.12.7"
  }
 },
 "nbformat": 4,
 "nbformat_minor": 5
}
