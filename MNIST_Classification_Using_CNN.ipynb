{
 "cells": [
  {
   "cell_type": "markdown",
   "id": "bca36fea-7a5b-4a10-ab03-501af3b2988b",
   "metadata": {},
   "source": [
    "#  \"MNIST Classification Using CNN with Deep Learning\":\n",
    "\n",
    "1. Project Overview: Develop a Convolutional Neural Network (CNN) model to classify handwritten digits (0–9) from the MNIST dataset, a benchmark dataset in computer vision and machine learning.\n",
    "\n",
    "2. Dataset: Use the MNIST dataset, consisting of 60,000 training images and 10,000 test images, each being a 28x28 grayscale image of a handwritten digit.\n",
    "\n",
    "3. Preprocessing: Normalize the pixel values of images to a range between 0 and 1 to improve model performance and training efficiency.\n",
    "\n",
    "4. Model Architecture: Design a CNN architecture with layers such as Convolution, ReLU (Rectified Linear Unit), Max Pooling, and Fully Connected (Dense) layers.\n",
    "\n",
    "5. Activation Function: Use the softmax activation function in the output layer to classify each image into one of 10 categories (digits 0–9).\n",
    "\n",
    "6. Loss Function: Employ categorical cross-entropy as the loss function since the task is a multi-class classification problem.\n",
    "\n",
    "7. Optimization: Use an optimizer such as Adam or SGD (Stochastic Gradient Descent) for efficient gradient descent and faster convergence.\n",
    "\n",
    "8. Performance Metrics: Evaluate the model using accuracy as the primary metric, along with precision, recall, and F1-score for additional insights.\n",
    "\n",
    "9. Training and Validation: Train the model on the training set with techniques like early stopping and dropout layers to avoid overfitting and improve generalization.\n",
    "\n",
    "10. Deployment and Application: Deploy the trained model for real-time handwritten digit recognition in applications like automated data entry systems, digitized banking, and form processing."
   ]
  },
  {
   "cell_type": "code",
   "execution_count": 1,
   "id": "76cb8643-ae56-4a76-85f3-6854962e7712",
   "metadata": {},
   "outputs": [],
   "source": [
    "from tensorflow import keras\n",
    "import matplotlib.pyplot as plt\n",
    "import numpy as np\n",
    "%matplotlib inline\n",
    "import warnings\n",
    "warnings.filterwarnings('ignore')"
   ]
  },
  {
   "cell_type": "code",
   "execution_count": 2,
   "id": "ab5727db-e05a-4d33-8fdf-8502a67436c6",
   "metadata": {},
   "outputs": [],
   "source": [
    "(X_train,y_train),(X_test,y_test) = keras.datasets.mnist.load_data()"
   ]
  },
  {
   "cell_type": "code",
   "execution_count": 3,
   "id": "9689f8c7-709a-49aa-a7a3-a79d278cdd66",
   "metadata": {},
   "outputs": [
    {
     "data": {
      "text/plain": [
       "(60000, 28, 28)"
      ]
     },
     "execution_count": 3,
     "metadata": {},
     "output_type": "execute_result"
    }
   ],
   "source": [
    "X_train.shape"
   ]
  },
  {
   "cell_type": "code",
   "execution_count": 4,
   "id": "7a3f6d1b-c68a-470c-884f-630e52e75023",
   "metadata": {},
   "outputs": [
    {
     "data": {
      "text/plain": [
       "array([[  0,   0,   0,   0,   0,   0,   0,   0,   0,   0,   0,   0,   0,\n",
       "          0,   0,   0,   0,   0,   0,   0,   0,   0,   0,   0,   0,   0,\n",
       "          0,   0],\n",
       "       [  0,   0,   0,   0,   0,   0,   0,   0,   0,   0,   0,   0,   0,\n",
       "          0,   0,   0,   0,   0,   0,   0,   0,   0,   0,   0,   0,   0,\n",
       "          0,   0],\n",
       "       [  0,   0,   0,   0,   0,   0,   0,   0,   0,   0,   0,   0,   0,\n",
       "          0,   0,   0,   0,   0,   0,   0,   0,   0,   0,   0,   0,   0,\n",
       "          0,   0],\n",
       "       [  0,   0,   0,   0,   0,   0,   0,   0,   0,   0,   0,   0,   0,\n",
       "          0,   0,   0,   0,   0,   0,   0,   0,   0,   0,   0,   0,   0,\n",
       "          0,   0],\n",
       "       [  0,   0,   0,   0,   0,   0,   0,   0,   0,   0,   0,   0,   0,\n",
       "          0,   0,   0,   0,   0,   0,   0,   0,   0,   0,   0,   0,   0,\n",
       "          0,   0],\n",
       "       [  0,   0,   0,   0,   0,   0,   0,   0,   0,   0,   0,   0,   3,\n",
       "         18,  18,  18, 126, 136, 175,  26, 166, 255, 247, 127,   0,   0,\n",
       "          0,   0],\n",
       "       [  0,   0,   0,   0,   0,   0,   0,   0,  30,  36,  94, 154, 170,\n",
       "        253, 253, 253, 253, 253, 225, 172, 253, 242, 195,  64,   0,   0,\n",
       "          0,   0],\n",
       "       [  0,   0,   0,   0,   0,   0,   0,  49, 238, 253, 253, 253, 253,\n",
       "        253, 253, 253, 253, 251,  93,  82,  82,  56,  39,   0,   0,   0,\n",
       "          0,   0],\n",
       "       [  0,   0,   0,   0,   0,   0,   0,  18, 219, 253, 253, 253, 253,\n",
       "        253, 198, 182, 247, 241,   0,   0,   0,   0,   0,   0,   0,   0,\n",
       "          0,   0],\n",
       "       [  0,   0,   0,   0,   0,   0,   0,   0,  80, 156, 107, 253, 253,\n",
       "        205,  11,   0,  43, 154,   0,   0,   0,   0,   0,   0,   0,   0,\n",
       "          0,   0],\n",
       "       [  0,   0,   0,   0,   0,   0,   0,   0,   0,  14,   1, 154, 253,\n",
       "         90,   0,   0,   0,   0,   0,   0,   0,   0,   0,   0,   0,   0,\n",
       "          0,   0],\n",
       "       [  0,   0,   0,   0,   0,   0,   0,   0,   0,   0,   0, 139, 253,\n",
       "        190,   2,   0,   0,   0,   0,   0,   0,   0,   0,   0,   0,   0,\n",
       "          0,   0],\n",
       "       [  0,   0,   0,   0,   0,   0,   0,   0,   0,   0,   0,  11, 190,\n",
       "        253,  70,   0,   0,   0,   0,   0,   0,   0,   0,   0,   0,   0,\n",
       "          0,   0],\n",
       "       [  0,   0,   0,   0,   0,   0,   0,   0,   0,   0,   0,   0,  35,\n",
       "        241, 225, 160, 108,   1,   0,   0,   0,   0,   0,   0,   0,   0,\n",
       "          0,   0],\n",
       "       [  0,   0,   0,   0,   0,   0,   0,   0,   0,   0,   0,   0,   0,\n",
       "         81, 240, 253, 253, 119,  25,   0,   0,   0,   0,   0,   0,   0,\n",
       "          0,   0],\n",
       "       [  0,   0,   0,   0,   0,   0,   0,   0,   0,   0,   0,   0,   0,\n",
       "          0,  45, 186, 253, 253, 150,  27,   0,   0,   0,   0,   0,   0,\n",
       "          0,   0],\n",
       "       [  0,   0,   0,   0,   0,   0,   0,   0,   0,   0,   0,   0,   0,\n",
       "          0,   0,  16,  93, 252, 253, 187,   0,   0,   0,   0,   0,   0,\n",
       "          0,   0],\n",
       "       [  0,   0,   0,   0,   0,   0,   0,   0,   0,   0,   0,   0,   0,\n",
       "          0,   0,   0,   0, 249, 253, 249,  64,   0,   0,   0,   0,   0,\n",
       "          0,   0],\n",
       "       [  0,   0,   0,   0,   0,   0,   0,   0,   0,   0,   0,   0,   0,\n",
       "          0,  46, 130, 183, 253, 253, 207,   2,   0,   0,   0,   0,   0,\n",
       "          0,   0],\n",
       "       [  0,   0,   0,   0,   0,   0,   0,   0,   0,   0,   0,   0,  39,\n",
       "        148, 229, 253, 253, 253, 250, 182,   0,   0,   0,   0,   0,   0,\n",
       "          0,   0],\n",
       "       [  0,   0,   0,   0,   0,   0,   0,   0,   0,   0,  24, 114, 221,\n",
       "        253, 253, 253, 253, 201,  78,   0,   0,   0,   0,   0,   0,   0,\n",
       "          0,   0],\n",
       "       [  0,   0,   0,   0,   0,   0,   0,   0,  23,  66, 213, 253, 253,\n",
       "        253, 253, 198,  81,   2,   0,   0,   0,   0,   0,   0,   0,   0,\n",
       "          0,   0],\n",
       "       [  0,   0,   0,   0,   0,   0,  18, 171, 219, 253, 253, 253, 253,\n",
       "        195,  80,   9,   0,   0,   0,   0,   0,   0,   0,   0,   0,   0,\n",
       "          0,   0],\n",
       "       [  0,   0,   0,   0,  55, 172, 226, 253, 253, 253, 253, 244, 133,\n",
       "         11,   0,   0,   0,   0,   0,   0,   0,   0,   0,   0,   0,   0,\n",
       "          0,   0],\n",
       "       [  0,   0,   0,   0, 136, 253, 253, 253, 212, 135, 132,  16,   0,\n",
       "          0,   0,   0,   0,   0,   0,   0,   0,   0,   0,   0,   0,   0,\n",
       "          0,   0],\n",
       "       [  0,   0,   0,   0,   0,   0,   0,   0,   0,   0,   0,   0,   0,\n",
       "          0,   0,   0,   0,   0,   0,   0,   0,   0,   0,   0,   0,   0,\n",
       "          0,   0],\n",
       "       [  0,   0,   0,   0,   0,   0,   0,   0,   0,   0,   0,   0,   0,\n",
       "          0,   0,   0,   0,   0,   0,   0,   0,   0,   0,   0,   0,   0,\n",
       "          0,   0],\n",
       "       [  0,   0,   0,   0,   0,   0,   0,   0,   0,   0,   0,   0,   0,\n",
       "          0,   0,   0,   0,   0,   0,   0,   0,   0,   0,   0,   0,   0,\n",
       "          0,   0]], dtype=uint8)"
      ]
     },
     "execution_count": 4,
     "metadata": {},
     "output_type": "execute_result"
    }
   ],
   "source": [
    "X_train[0]"
   ]
  },
  {
   "cell_type": "code",
   "execution_count": 5,
   "id": "d3b30164-0163-441c-8128-d92f8c534cd0",
   "metadata": {},
   "outputs": [
    {
     "data": {
      "text/plain": [
       "<matplotlib.image.AxesImage at 0x16e7df2fec0>"
      ]
     },
     "execution_count": 5,
     "metadata": {},
     "output_type": "execute_result"
    }
   ],
   "source": [
    "plt.imshow(X_train[0])"
   ]
  },
  {
   "cell_type": "code",
   "execution_count": 6,
   "id": "b22351e0-63c1-43e1-8910-3c83688ed425",
   "metadata": {},
   "outputs": [
    {
     "data": {
      "text/plain": [
       "2"
      ]
     },
     "execution_count": 6,
     "metadata": {},
     "output_type": "execute_result"
    }
   ],
   "source": [
    "y_train[5]"
   ]
  },
  {
   "cell_type": "code",
   "execution_count": 7,
   "id": "27474d14-e53e-4f7f-9ec1-29c835da2b03",
   "metadata": {},
   "outputs": [],
   "source": [
    "X_train,X_test = X_train/255,X_test/255"
   ]
  },
  {
   "cell_type": "code",
   "execution_count": 8,
   "id": "ca8f1467-e230-4d44-95e6-66fd4107f8c0",
   "metadata": {},
   "outputs": [
    {
     "data": {
      "text/plain": [
       "array([[0.        , 0.        , 0.        , 0.        , 0.        ,\n",
       "        0.        , 0.        , 0.        , 0.        , 0.        ,\n",
       "        0.        , 0.        , 0.        , 0.        , 0.        ,\n",
       "        0.        , 0.        , 0.        , 0.        , 0.        ,\n",
       "        0.        , 0.        , 0.        , 0.        , 0.        ,\n",
       "        0.        , 0.        , 0.        ],\n",
       "       [0.        , 0.        , 0.        , 0.        , 0.        ,\n",
       "        0.        , 0.        , 0.        , 0.        , 0.        ,\n",
       "        0.        , 0.        , 0.        , 0.        , 0.        ,\n",
       "        0.        , 0.        , 0.        , 0.        , 0.        ,\n",
       "        0.        , 0.        , 0.        , 0.        , 0.        ,\n",
       "        0.        , 0.        , 0.        ],\n",
       "       [0.        , 0.        , 0.        , 0.        , 0.        ,\n",
       "        0.        , 0.        , 0.        , 0.        , 0.        ,\n",
       "        0.        , 0.        , 0.        , 0.        , 0.        ,\n",
       "        0.        , 0.        , 0.        , 0.        , 0.        ,\n",
       "        0.        , 0.        , 0.        , 0.        , 0.        ,\n",
       "        0.        , 0.        , 0.        ],\n",
       "       [0.        , 0.        , 0.        , 0.        , 0.        ,\n",
       "        0.        , 0.        , 0.        , 0.        , 0.        ,\n",
       "        0.        , 0.        , 0.        , 0.        , 0.        ,\n",
       "        0.        , 0.        , 0.        , 0.        , 0.        ,\n",
       "        0.        , 0.        , 0.        , 0.        , 0.        ,\n",
       "        0.        , 0.        , 0.        ],\n",
       "       [0.        , 0.        , 0.        , 0.        , 0.        ,\n",
       "        0.        , 0.        , 0.        , 0.        , 0.        ,\n",
       "        0.        , 0.        , 0.        , 0.        , 0.        ,\n",
       "        0.        , 0.        , 0.        , 0.        , 0.        ,\n",
       "        0.        , 0.        , 0.        , 0.        , 0.        ,\n",
       "        0.        , 0.        , 0.        ],\n",
       "       [0.        , 0.        , 0.        , 0.        , 0.        ,\n",
       "        0.        , 0.        , 0.        , 0.        , 0.        ,\n",
       "        0.        , 0.        , 0.01176471, 0.07058824, 0.07058824,\n",
       "        0.07058824, 0.49411765, 0.53333333, 0.68627451, 0.10196078,\n",
       "        0.65098039, 1.        , 0.96862745, 0.49803922, 0.        ,\n",
       "        0.        , 0.        , 0.        ],\n",
       "       [0.        , 0.        , 0.        , 0.        , 0.        ,\n",
       "        0.        , 0.        , 0.        , 0.11764706, 0.14117647,\n",
       "        0.36862745, 0.60392157, 0.66666667, 0.99215686, 0.99215686,\n",
       "        0.99215686, 0.99215686, 0.99215686, 0.88235294, 0.6745098 ,\n",
       "        0.99215686, 0.94901961, 0.76470588, 0.25098039, 0.        ,\n",
       "        0.        , 0.        , 0.        ],\n",
       "       [0.        , 0.        , 0.        , 0.        , 0.        ,\n",
       "        0.        , 0.        , 0.19215686, 0.93333333, 0.99215686,\n",
       "        0.99215686, 0.99215686, 0.99215686, 0.99215686, 0.99215686,\n",
       "        0.99215686, 0.99215686, 0.98431373, 0.36470588, 0.32156863,\n",
       "        0.32156863, 0.21960784, 0.15294118, 0.        , 0.        ,\n",
       "        0.        , 0.        , 0.        ],\n",
       "       [0.        , 0.        , 0.        , 0.        , 0.        ,\n",
       "        0.        , 0.        , 0.07058824, 0.85882353, 0.99215686,\n",
       "        0.99215686, 0.99215686, 0.99215686, 0.99215686, 0.77647059,\n",
       "        0.71372549, 0.96862745, 0.94509804, 0.        , 0.        ,\n",
       "        0.        , 0.        , 0.        , 0.        , 0.        ,\n",
       "        0.        , 0.        , 0.        ],\n",
       "       [0.        , 0.        , 0.        , 0.        , 0.        ,\n",
       "        0.        , 0.        , 0.        , 0.31372549, 0.61176471,\n",
       "        0.41960784, 0.99215686, 0.99215686, 0.80392157, 0.04313725,\n",
       "        0.        , 0.16862745, 0.60392157, 0.        , 0.        ,\n",
       "        0.        , 0.        , 0.        , 0.        , 0.        ,\n",
       "        0.        , 0.        , 0.        ],\n",
       "       [0.        , 0.        , 0.        , 0.        , 0.        ,\n",
       "        0.        , 0.        , 0.        , 0.        , 0.05490196,\n",
       "        0.00392157, 0.60392157, 0.99215686, 0.35294118, 0.        ,\n",
       "        0.        , 0.        , 0.        , 0.        , 0.        ,\n",
       "        0.        , 0.        , 0.        , 0.        , 0.        ,\n",
       "        0.        , 0.        , 0.        ],\n",
       "       [0.        , 0.        , 0.        , 0.        , 0.        ,\n",
       "        0.        , 0.        , 0.        , 0.        , 0.        ,\n",
       "        0.        , 0.54509804, 0.99215686, 0.74509804, 0.00784314,\n",
       "        0.        , 0.        , 0.        , 0.        , 0.        ,\n",
       "        0.        , 0.        , 0.        , 0.        , 0.        ,\n",
       "        0.        , 0.        , 0.        ],\n",
       "       [0.        , 0.        , 0.        , 0.        , 0.        ,\n",
       "        0.        , 0.        , 0.        , 0.        , 0.        ,\n",
       "        0.        , 0.04313725, 0.74509804, 0.99215686, 0.2745098 ,\n",
       "        0.        , 0.        , 0.        , 0.        , 0.        ,\n",
       "        0.        , 0.        , 0.        , 0.        , 0.        ,\n",
       "        0.        , 0.        , 0.        ],\n",
       "       [0.        , 0.        , 0.        , 0.        , 0.        ,\n",
       "        0.        , 0.        , 0.        , 0.        , 0.        ,\n",
       "        0.        , 0.        , 0.1372549 , 0.94509804, 0.88235294,\n",
       "        0.62745098, 0.42352941, 0.00392157, 0.        , 0.        ,\n",
       "        0.        , 0.        , 0.        , 0.        , 0.        ,\n",
       "        0.        , 0.        , 0.        ],\n",
       "       [0.        , 0.        , 0.        , 0.        , 0.        ,\n",
       "        0.        , 0.        , 0.        , 0.        , 0.        ,\n",
       "        0.        , 0.        , 0.        , 0.31764706, 0.94117647,\n",
       "        0.99215686, 0.99215686, 0.46666667, 0.09803922, 0.        ,\n",
       "        0.        , 0.        , 0.        , 0.        , 0.        ,\n",
       "        0.        , 0.        , 0.        ],\n",
       "       [0.        , 0.        , 0.        , 0.        , 0.        ,\n",
       "        0.        , 0.        , 0.        , 0.        , 0.        ,\n",
       "        0.        , 0.        , 0.        , 0.        , 0.17647059,\n",
       "        0.72941176, 0.99215686, 0.99215686, 0.58823529, 0.10588235,\n",
       "        0.        , 0.        , 0.        , 0.        , 0.        ,\n",
       "        0.        , 0.        , 0.        ],\n",
       "       [0.        , 0.        , 0.        , 0.        , 0.        ,\n",
       "        0.        , 0.        , 0.        , 0.        , 0.        ,\n",
       "        0.        , 0.        , 0.        , 0.        , 0.        ,\n",
       "        0.0627451 , 0.36470588, 0.98823529, 0.99215686, 0.73333333,\n",
       "        0.        , 0.        , 0.        , 0.        , 0.        ,\n",
       "        0.        , 0.        , 0.        ],\n",
       "       [0.        , 0.        , 0.        , 0.        , 0.        ,\n",
       "        0.        , 0.        , 0.        , 0.        , 0.        ,\n",
       "        0.        , 0.        , 0.        , 0.        , 0.        ,\n",
       "        0.        , 0.        , 0.97647059, 0.99215686, 0.97647059,\n",
       "        0.25098039, 0.        , 0.        , 0.        , 0.        ,\n",
       "        0.        , 0.        , 0.        ],\n",
       "       [0.        , 0.        , 0.        , 0.        , 0.        ,\n",
       "        0.        , 0.        , 0.        , 0.        , 0.        ,\n",
       "        0.        , 0.        , 0.        , 0.        , 0.18039216,\n",
       "        0.50980392, 0.71764706, 0.99215686, 0.99215686, 0.81176471,\n",
       "        0.00784314, 0.        , 0.        , 0.        , 0.        ,\n",
       "        0.        , 0.        , 0.        ],\n",
       "       [0.        , 0.        , 0.        , 0.        , 0.        ,\n",
       "        0.        , 0.        , 0.        , 0.        , 0.        ,\n",
       "        0.        , 0.        , 0.15294118, 0.58039216, 0.89803922,\n",
       "        0.99215686, 0.99215686, 0.99215686, 0.98039216, 0.71372549,\n",
       "        0.        , 0.        , 0.        , 0.        , 0.        ,\n",
       "        0.        , 0.        , 0.        ],\n",
       "       [0.        , 0.        , 0.        , 0.        , 0.        ,\n",
       "        0.        , 0.        , 0.        , 0.        , 0.        ,\n",
       "        0.09411765, 0.44705882, 0.86666667, 0.99215686, 0.99215686,\n",
       "        0.99215686, 0.99215686, 0.78823529, 0.30588235, 0.        ,\n",
       "        0.        , 0.        , 0.        , 0.        , 0.        ,\n",
       "        0.        , 0.        , 0.        ],\n",
       "       [0.        , 0.        , 0.        , 0.        , 0.        ,\n",
       "        0.        , 0.        , 0.        , 0.09019608, 0.25882353,\n",
       "        0.83529412, 0.99215686, 0.99215686, 0.99215686, 0.99215686,\n",
       "        0.77647059, 0.31764706, 0.00784314, 0.        , 0.        ,\n",
       "        0.        , 0.        , 0.        , 0.        , 0.        ,\n",
       "        0.        , 0.        , 0.        ],\n",
       "       [0.        , 0.        , 0.        , 0.        , 0.        ,\n",
       "        0.        , 0.07058824, 0.67058824, 0.85882353, 0.99215686,\n",
       "        0.99215686, 0.99215686, 0.99215686, 0.76470588, 0.31372549,\n",
       "        0.03529412, 0.        , 0.        , 0.        , 0.        ,\n",
       "        0.        , 0.        , 0.        , 0.        , 0.        ,\n",
       "        0.        , 0.        , 0.        ],\n",
       "       [0.        , 0.        , 0.        , 0.        , 0.21568627,\n",
       "        0.6745098 , 0.88627451, 0.99215686, 0.99215686, 0.99215686,\n",
       "        0.99215686, 0.95686275, 0.52156863, 0.04313725, 0.        ,\n",
       "        0.        , 0.        , 0.        , 0.        , 0.        ,\n",
       "        0.        , 0.        , 0.        , 0.        , 0.        ,\n",
       "        0.        , 0.        , 0.        ],\n",
       "       [0.        , 0.        , 0.        , 0.        , 0.53333333,\n",
       "        0.99215686, 0.99215686, 0.99215686, 0.83137255, 0.52941176,\n",
       "        0.51764706, 0.0627451 , 0.        , 0.        , 0.        ,\n",
       "        0.        , 0.        , 0.        , 0.        , 0.        ,\n",
       "        0.        , 0.        , 0.        , 0.        , 0.        ,\n",
       "        0.        , 0.        , 0.        ],\n",
       "       [0.        , 0.        , 0.        , 0.        , 0.        ,\n",
       "        0.        , 0.        , 0.        , 0.        , 0.        ,\n",
       "        0.        , 0.        , 0.        , 0.        , 0.        ,\n",
       "        0.        , 0.        , 0.        , 0.        , 0.        ,\n",
       "        0.        , 0.        , 0.        , 0.        , 0.        ,\n",
       "        0.        , 0.        , 0.        ],\n",
       "       [0.        , 0.        , 0.        , 0.        , 0.        ,\n",
       "        0.        , 0.        , 0.        , 0.        , 0.        ,\n",
       "        0.        , 0.        , 0.        , 0.        , 0.        ,\n",
       "        0.        , 0.        , 0.        , 0.        , 0.        ,\n",
       "        0.        , 0.        , 0.        , 0.        , 0.        ,\n",
       "        0.        , 0.        , 0.        ],\n",
       "       [0.        , 0.        , 0.        , 0.        , 0.        ,\n",
       "        0.        , 0.        , 0.        , 0.        , 0.        ,\n",
       "        0.        , 0.        , 0.        , 0.        , 0.        ,\n",
       "        0.        , 0.        , 0.        , 0.        , 0.        ,\n",
       "        0.        , 0.        , 0.        , 0.        , 0.        ,\n",
       "        0.        , 0.        , 0.        ]])"
      ]
     },
     "execution_count": 8,
     "metadata": {},
     "output_type": "execute_result"
    }
   ],
   "source": [
    "X_train[0]"
   ]
  },
  {
   "cell_type": "code",
   "execution_count": 9,
   "id": "8d6e88ec-69ac-4010-827a-25a756a46d61",
   "metadata": {},
   "outputs": [],
   "source": [
    "from keras.layers import Dense\n",
    "from tensorflow.keras import layers"
   ]
  },
  {
   "cell_type": "code",
   "execution_count": 10,
   "id": "ce1a49a3-e12e-4ebe-ad2f-413a221da977",
   "metadata": {},
   "outputs": [
    {
     "data": {
      "text/plain": [
       "(60000, 28, 28)"
      ]
     },
     "execution_count": 10,
     "metadata": {},
     "output_type": "execute_result"
    }
   ],
   "source": [
    "X_train.shape"
   ]
  },
  {
   "cell_type": "code",
   "execution_count": 11,
   "id": "ac9cd348-7408-4dac-ba7b-6e9b622ca70f",
   "metadata": {},
   "outputs": [
    {
     "data": {
      "text/plain": [
       "(10000, 28, 28)"
      ]
     },
     "execution_count": 11,
     "metadata": {},
     "output_type": "execute_result"
    }
   ],
   "source": [
    "X_test.shape"
   ]
  },
  {
   "cell_type": "code",
   "execution_count": 12,
   "id": "c4b411cf-3573-4290-b00e-03efcaab503f",
   "metadata": {},
   "outputs": [],
   "source": [
    "X_train_flat = X_train.reshape(60000, 784)  \n",
    "X_test_flat = X_test.reshape(10000, 784)   \n"
   ]
  },
  {
   "cell_type": "code",
   "execution_count": 13,
   "id": "bb62f6f7-54e1-4ddd-8ef3-7a9e7b37ce1b",
   "metadata": {},
   "outputs": [
    {
     "name": "stdout",
     "output_type": "stream",
     "text": [
      "Epoch 1/5\n",
      "\u001b[1m1875/1875\u001b[0m \u001b[32m━━━━━━━━━━━━━━━━━━━━\u001b[0m\u001b[37m\u001b[0m \u001b[1m5s\u001b[0m 2ms/step - accuracy: 0.8751 - loss: 0.4347\n",
      "Epoch 2/5\n",
      "\u001b[1m1875/1875\u001b[0m \u001b[32m━━━━━━━━━━━━━━━━━━━━\u001b[0m\u001b[37m\u001b[0m \u001b[1m4s\u001b[0m 2ms/step - accuracy: 0.9624 - loss: 0.1248\n",
      "Epoch 3/5\n",
      "\u001b[1m1875/1875\u001b[0m \u001b[32m━━━━━━━━━━━━━━━━━━━━\u001b[0m\u001b[37m\u001b[0m \u001b[1m4s\u001b[0m 2ms/step - accuracy: 0.9754 - loss: 0.0798\n",
      "Epoch 4/5\n",
      "\u001b[1m1875/1875\u001b[0m \u001b[32m━━━━━━━━━━━━━━━━━━━━\u001b[0m\u001b[37m\u001b[0m \u001b[1m4s\u001b[0m 2ms/step - accuracy: 0.9827 - loss: 0.0591\n",
      "Epoch 5/5\n",
      "\u001b[1m1875/1875\u001b[0m \u001b[32m━━━━━━━━━━━━━━━━━━━━\u001b[0m\u001b[37m\u001b[0m \u001b[1m4s\u001b[0m 2ms/step - accuracy: 0.9871 - loss: 0.0448\n"
     ]
    },
    {
     "data": {
      "text/plain": [
       "<keras.src.callbacks.history.History at 0x16e7ccaaf60>"
      ]
     },
     "execution_count": 13,
     "metadata": {},
     "output_type": "execute_result"
    }
   ],
   "source": [
    "model = keras.Sequential([\n",
    "    Dense(128,input_shape=(784,),activation='relu'),\n",
    "    Dense(10,activation='sigmoid')\n",
    "])\n",
    "\n",
    "model.compile(\n",
    "    optimizer='adam',\n",
    "    loss='sparse_categorical_crossentropy',\n",
    "    metrics = ['accuracy'])\n",
    "\n",
    "model.fit(X_train_flat,y_train,epochs=5)"
   ]
  },
  {
   "cell_type": "code",
   "execution_count": 14,
   "id": "a0521694-7169-4d43-9ea1-e52338957d08",
   "metadata": {},
   "outputs": [
    {
     "name": "stdout",
     "output_type": "stream",
     "text": [
      "\u001b[1m313/313\u001b[0m \u001b[32m━━━━━━━━━━━━━━━━━━━━\u001b[0m\u001b[37m\u001b[0m \u001b[1m0s\u001b[0m 1ms/step\n"
     ]
    }
   ],
   "source": [
    "y_pred = model.predict(X_test_flat)"
   ]
  },
  {
   "cell_type": "code",
   "execution_count": 15,
   "id": "50d081d8-58bc-4c06-bc5e-e1ff4218f2d2",
   "metadata": {},
   "outputs": [
    {
     "data": {
      "text/plain": [
       "array([1.0234345e-03, 5.5960903e-04, 7.1365976e-01, 9.6983671e-01,\n",
       "       4.1757274e-05, 3.4882624e-03, 1.3206620e-08, 9.9998790e-01,\n",
       "       7.1679042e-03, 4.0288672e-01], dtype=float32)"
      ]
     },
     "execution_count": 15,
     "metadata": {},
     "output_type": "execute_result"
    }
   ],
   "source": [
    "y_pred[0]"
   ]
  },
  {
   "cell_type": "code",
   "execution_count": 16,
   "id": "2a30d28e-f6fe-4464-a135-b9921185fab6",
   "metadata": {},
   "outputs": [
    {
     "data": {
      "text/plain": [
       "<matplotlib.image.AxesImage at 0x16e1d47bb60>"
      ]
     },
     "execution_count": 16,
     "metadata": {},
     "output_type": "execute_result"
    }
   ],
   "source": [
    "plt.imshow(X_test[0])"
   ]
  },
  {
   "cell_type": "code",
   "execution_count": 17,
   "id": "997384e7-87b2-4261-90ec-d36aa9e04166",
   "metadata": {},
   "outputs": [],
   "source": [
    "from tensorflow.math import confusion_matrix"
   ]
  },
  {
   "cell_type": "code",
   "execution_count": 18,
   "id": "4c25ebcc-a490-43bc-8554-a1f24a7a65fb",
   "metadata": {},
   "outputs": [],
   "source": [
    "y_pred_num = [np.argmax(i) for i in y_pred]"
   ]
  },
  {
   "cell_type": "code",
   "execution_count": 19,
   "id": "7e789b74-b4cb-4ea4-8860-2f80dd148437",
   "metadata": {},
   "outputs": [
    {
     "data": {
      "text/plain": [
       "7"
      ]
     },
     "execution_count": 19,
     "metadata": {},
     "output_type": "execute_result"
    }
   ],
   "source": [
    "y_pred_num[0]"
   ]
  },
  {
   "cell_type": "code",
   "execution_count": 20,
   "id": "60b5eb62-d3ef-403b-a188-67d190bf2bb6",
   "metadata": {},
   "outputs": [],
   "source": [
    "con_mat = confusion_matrix(labels=y_test,predictions=y_pred_num)"
   ]
  },
  {
   "cell_type": "code",
   "execution_count": 21,
   "id": "3d5a6052-f149-4ded-a0fc-52edd230b6e5",
   "metadata": {},
   "outputs": [
    {
     "data": {
      "text/plain": [
       "<tf.Tensor: shape=(10, 10), dtype=int32, numpy=\n",
       "array([[ 973,    1,    1,    1,    1,    0,    1,    1,    0,    1],\n",
       "       [   0, 1121,    3,    2,    0,    2,    2,    1,    4,    0],\n",
       "       [   3,    1, 1005,    7,    5,    0,    1,    3,    6,    1],\n",
       "       [   0,    0,    3,  981,    0,   13,    0,    4,    5,    4],\n",
       "       [   1,    0,    3,    0,  969,    0,    1,    2,    0,    6],\n",
       "       [   2,    0,    0,    2,    2,  881,    2,    1,    0,    2],\n",
       "       [   9,    3,    5,    1,    4,    3,  931,    1,    1,    0],\n",
       "       [   2,    3,   10,    0,    1,    0,    0, 1003,    2,    7],\n",
       "       [   6,    1,    3,    7,    7,    8,    1,    4,  932,    5],\n",
       "       [   2,    2,    0,    5,   11,    3,    0,    4,    2,  980]])>"
      ]
     },
     "execution_count": 21,
     "metadata": {},
     "output_type": "execute_result"
    }
   ],
   "source": [
    "con_mat"
   ]
  },
  {
   "cell_type": "code",
   "execution_count": 22,
   "id": "701ea92b-22ef-4161-b449-39c462fef59d",
   "metadata": {},
   "outputs": [],
   "source": [
    "import seaborn as sns"
   ]
  },
  {
   "cell_type": "code",
   "execution_count": 23,
   "id": "71ed7f44-97e3-46aa-a1f4-f6ab8feec124",
   "metadata": {},
   "outputs": [
    {
     "data": {
      "text/plain": [
       "<Axes: >"
      ]
     },
     "execution_count": 23,
     "metadata": {},
     "output_type": "execute_result"
    }
   ],
   "source": [
    "sns.heatmap(con_mat,annot=True,fmt='g')"
   ]
  },
  {
   "cell_type": "code",
   "execution_count": 24,
   "id": "47ce93ff-18f3-45a1-92e9-9f371545bb21",
   "metadata": {},
   "outputs": [],
   "source": [
    "y_train = y_train.reshape(-1,)\n",
    "y_test = y_test.reshape(-1,)\n",
    "#y_train = keras.utils.to_categorical(y_train)\n",
    "#y_test = keras.utils.to_categorical(y_test)"
   ]
  },
  {
   "cell_type": "code",
   "execution_count": 25,
   "id": "8a674768-b86d-4316-b81f-dac8563e4dd3",
   "metadata": {},
   "outputs": [
    {
     "data": {
      "text/plain": [
       "(10000,)"
      ]
     },
     "execution_count": 25,
     "metadata": {},
     "output_type": "execute_result"
    }
   ],
   "source": [
    "y_test.shape"
   ]
  },
  {
   "cell_type": "code",
   "execution_count": 26,
   "id": "19667b9b-c890-4001-9ee9-46fe47fc4679",
   "metadata": {},
   "outputs": [],
   "source": [
    "X_train = X_train.reshape((X_train.shape[0],28,28,1))"
   ]
  },
  {
   "cell_type": "code",
   "execution_count": 27,
   "id": "346d372d-2766-41e2-b0a3-f1b7aae34789",
   "metadata": {},
   "outputs": [],
   "source": [
    "X_test = X_test.reshape((X_test.shape[0],28,28,1))"
   ]
  },
  {
   "cell_type": "code",
   "execution_count": 28,
   "id": "e232b946-b7e0-4ac2-91a4-45bd8fe3d6d5",
   "metadata": {},
   "outputs": [],
   "source": [
    "X_train = X_train.astype('float32')/255\n",
    "X_test = X_train.astype('float32')/255"
   ]
  },
  {
   "cell_type": "code",
   "execution_count": 29,
   "id": "81616bef-6bc4-4fcf-a825-8372ea039644",
   "metadata": {},
   "outputs": [],
   "source": [
    "from tensorflow.keras import Sequential, layers\n",
    "from tensorflow.keras.layers import Dense\n",
    "\n",
    "model = Sequential([\n",
    "    layers.Conv2D(filters=32, kernel_size=(2, 2), activation='relu', input_shape=(28, 28, 1)),  \n",
    "    layers.MaxPool2D(),\n",
    "\n",
    "    layers.Conv2D(filters=64, kernel_size=(2, 2), activation='relu'),\n",
    "    layers.MaxPool2D(),\n",
    "    \n",
    "    layers.Flatten(),  \n",
    "    keras.layers.Dense(128, activation='relu'),\n",
    "    keras.layers.Dense(10, activation='softmax')  \n",
    "])\n",
    "\n",
    "model.compile(\n",
    "    optimizer='adam',\n",
    "    loss='sparse_categorical_crossentropy',\n",
    "    metrics=['accuracy']\n",
    ")\n"
   ]
  },
  {
   "cell_type": "code",
   "execution_count": 30,
   "id": "80c838f1-bd13-4475-9e21-8b6b26f30199",
   "metadata": {},
   "outputs": [
    {
     "data": {
      "text/html": [
       "<pre style=\"white-space:pre;overflow-x:auto;line-height:normal;font-family:Menlo,'DejaVu Sans Mono',consolas,'Courier New',monospace\"><span style=\"font-weight: bold\">Model: \"sequential_1\"</span>\n",
       "</pre>\n"
      ],
      "text/plain": [
       "\u001b[1mModel: \"sequential_1\"\u001b[0m\n"
      ]
     },
     "metadata": {},
     "output_type": "display_data"
    },
    {
     "data": {
      "text/html": [
       "<pre style=\"white-space:pre;overflow-x:auto;line-height:normal;font-family:Menlo,'DejaVu Sans Mono',consolas,'Courier New',monospace\">┏━━━━━━━━━━━━━━━━━━━━━━━━━━━━━━━━━━━━━━┳━━━━━━━━━━━━━━━━━━━━━━━━━━━━━┳━━━━━━━━━━━━━━━━━┓\n",
       "┃<span style=\"font-weight: bold\"> Layer (type)                         </span>┃<span style=\"font-weight: bold\"> Output Shape                </span>┃<span style=\"font-weight: bold\">         Param # </span>┃\n",
       "┡━━━━━━━━━━━━━━━━━━━━━━━━━━━━━━━━━━━━━━╇━━━━━━━━━━━━━━━━━━━━━━━━━━━━━╇━━━━━━━━━━━━━━━━━┩\n",
       "│ conv2d (<span style=\"color: #0087ff; text-decoration-color: #0087ff\">Conv2D</span>)                      │ (<span style=\"color: #00d7ff; text-decoration-color: #00d7ff\">None</span>, <span style=\"color: #00af00; text-decoration-color: #00af00\">27</span>, <span style=\"color: #00af00; text-decoration-color: #00af00\">27</span>, <span style=\"color: #00af00; text-decoration-color: #00af00\">32</span>)          │             <span style=\"color: #00af00; text-decoration-color: #00af00\">160</span> │\n",
       "├──────────────────────────────────────┼─────────────────────────────┼─────────────────┤\n",
       "│ max_pooling2d (<span style=\"color: #0087ff; text-decoration-color: #0087ff\">MaxPooling2D</span>)         │ (<span style=\"color: #00d7ff; text-decoration-color: #00d7ff\">None</span>, <span style=\"color: #00af00; text-decoration-color: #00af00\">13</span>, <span style=\"color: #00af00; text-decoration-color: #00af00\">13</span>, <span style=\"color: #00af00; text-decoration-color: #00af00\">32</span>)          │               <span style=\"color: #00af00; text-decoration-color: #00af00\">0</span> │\n",
       "├──────────────────────────────────────┼─────────────────────────────┼─────────────────┤\n",
       "│ conv2d_1 (<span style=\"color: #0087ff; text-decoration-color: #0087ff\">Conv2D</span>)                    │ (<span style=\"color: #00d7ff; text-decoration-color: #00d7ff\">None</span>, <span style=\"color: #00af00; text-decoration-color: #00af00\">12</span>, <span style=\"color: #00af00; text-decoration-color: #00af00\">12</span>, <span style=\"color: #00af00; text-decoration-color: #00af00\">64</span>)          │           <span style=\"color: #00af00; text-decoration-color: #00af00\">8,256</span> │\n",
       "├──────────────────────────────────────┼─────────────────────────────┼─────────────────┤\n",
       "│ max_pooling2d_1 (<span style=\"color: #0087ff; text-decoration-color: #0087ff\">MaxPooling2D</span>)       │ (<span style=\"color: #00d7ff; text-decoration-color: #00d7ff\">None</span>, <span style=\"color: #00af00; text-decoration-color: #00af00\">6</span>, <span style=\"color: #00af00; text-decoration-color: #00af00\">6</span>, <span style=\"color: #00af00; text-decoration-color: #00af00\">64</span>)            │               <span style=\"color: #00af00; text-decoration-color: #00af00\">0</span> │\n",
       "├──────────────────────────────────────┼─────────────────────────────┼─────────────────┤\n",
       "│ flatten (<span style=\"color: #0087ff; text-decoration-color: #0087ff\">Flatten</span>)                    │ (<span style=\"color: #00d7ff; text-decoration-color: #00d7ff\">None</span>, <span style=\"color: #00af00; text-decoration-color: #00af00\">2304</span>)                │               <span style=\"color: #00af00; text-decoration-color: #00af00\">0</span> │\n",
       "├──────────────────────────────────────┼─────────────────────────────┼─────────────────┤\n",
       "│ dense_2 (<span style=\"color: #0087ff; text-decoration-color: #0087ff\">Dense</span>)                      │ (<span style=\"color: #00d7ff; text-decoration-color: #00d7ff\">None</span>, <span style=\"color: #00af00; text-decoration-color: #00af00\">128</span>)                 │         <span style=\"color: #00af00; text-decoration-color: #00af00\">295,040</span> │\n",
       "├──────────────────────────────────────┼─────────────────────────────┼─────────────────┤\n",
       "│ dense_3 (<span style=\"color: #0087ff; text-decoration-color: #0087ff\">Dense</span>)                      │ (<span style=\"color: #00d7ff; text-decoration-color: #00d7ff\">None</span>, <span style=\"color: #00af00; text-decoration-color: #00af00\">10</span>)                  │           <span style=\"color: #00af00; text-decoration-color: #00af00\">1,290</span> │\n",
       "└──────────────────────────────────────┴─────────────────────────────┴─────────────────┘\n",
       "</pre>\n"
      ],
      "text/plain": [
       "┏━━━━━━━━━━━━━━━━━━━━━━━━━━━━━━━━━━━━━━┳━━━━━━━━━━━━━━━━━━━━━━━━━━━━━┳━━━━━━━━━━━━━━━━━┓\n",
       "┃\u001b[1m \u001b[0m\u001b[1mLayer (type)                        \u001b[0m\u001b[1m \u001b[0m┃\u001b[1m \u001b[0m\u001b[1mOutput Shape               \u001b[0m\u001b[1m \u001b[0m┃\u001b[1m \u001b[0m\u001b[1m        Param #\u001b[0m\u001b[1m \u001b[0m┃\n",
       "┡━━━━━━━━━━━━━━━━━━━━━━━━━━━━━━━━━━━━━━╇━━━━━━━━━━━━━━━━━━━━━━━━━━━━━╇━━━━━━━━━━━━━━━━━┩\n",
       "│ conv2d (\u001b[38;5;33mConv2D\u001b[0m)                      │ (\u001b[38;5;45mNone\u001b[0m, \u001b[38;5;34m27\u001b[0m, \u001b[38;5;34m27\u001b[0m, \u001b[38;5;34m32\u001b[0m)          │             \u001b[38;5;34m160\u001b[0m │\n",
       "├──────────────────────────────────────┼─────────────────────────────┼─────────────────┤\n",
       "│ max_pooling2d (\u001b[38;5;33mMaxPooling2D\u001b[0m)         │ (\u001b[38;5;45mNone\u001b[0m, \u001b[38;5;34m13\u001b[0m, \u001b[38;5;34m13\u001b[0m, \u001b[38;5;34m32\u001b[0m)          │               \u001b[38;5;34m0\u001b[0m │\n",
       "├──────────────────────────────────────┼─────────────────────────────┼─────────────────┤\n",
       "│ conv2d_1 (\u001b[38;5;33mConv2D\u001b[0m)                    │ (\u001b[38;5;45mNone\u001b[0m, \u001b[38;5;34m12\u001b[0m, \u001b[38;5;34m12\u001b[0m, \u001b[38;5;34m64\u001b[0m)          │           \u001b[38;5;34m8,256\u001b[0m │\n",
       "├──────────────────────────────────────┼─────────────────────────────┼─────────────────┤\n",
       "│ max_pooling2d_1 (\u001b[38;5;33mMaxPooling2D\u001b[0m)       │ (\u001b[38;5;45mNone\u001b[0m, \u001b[38;5;34m6\u001b[0m, \u001b[38;5;34m6\u001b[0m, \u001b[38;5;34m64\u001b[0m)            │               \u001b[38;5;34m0\u001b[0m │\n",
       "├──────────────────────────────────────┼─────────────────────────────┼─────────────────┤\n",
       "│ flatten (\u001b[38;5;33mFlatten\u001b[0m)                    │ (\u001b[38;5;45mNone\u001b[0m, \u001b[38;5;34m2304\u001b[0m)                │               \u001b[38;5;34m0\u001b[0m │\n",
       "├──────────────────────────────────────┼─────────────────────────────┼─────────────────┤\n",
       "│ dense_2 (\u001b[38;5;33mDense\u001b[0m)                      │ (\u001b[38;5;45mNone\u001b[0m, \u001b[38;5;34m128\u001b[0m)                 │         \u001b[38;5;34m295,040\u001b[0m │\n",
       "├──────────────────────────────────────┼─────────────────────────────┼─────────────────┤\n",
       "│ dense_3 (\u001b[38;5;33mDense\u001b[0m)                      │ (\u001b[38;5;45mNone\u001b[0m, \u001b[38;5;34m10\u001b[0m)                  │           \u001b[38;5;34m1,290\u001b[0m │\n",
       "└──────────────────────────────────────┴─────────────────────────────┴─────────────────┘\n"
      ]
     },
     "metadata": {},
     "output_type": "display_data"
    },
    {
     "data": {
      "text/html": [
       "<pre style=\"white-space:pre;overflow-x:auto;line-height:normal;font-family:Menlo,'DejaVu Sans Mono',consolas,'Courier New',monospace\"><span style=\"font-weight: bold\"> Total params: </span><span style=\"color: #00af00; text-decoration-color: #00af00\">304,746</span> (1.16 MB)\n",
       "</pre>\n"
      ],
      "text/plain": [
       "\u001b[1m Total params: \u001b[0m\u001b[38;5;34m304,746\u001b[0m (1.16 MB)\n"
      ]
     },
     "metadata": {},
     "output_type": "display_data"
    },
    {
     "data": {
      "text/html": [
       "<pre style=\"white-space:pre;overflow-x:auto;line-height:normal;font-family:Menlo,'DejaVu Sans Mono',consolas,'Courier New',monospace\"><span style=\"font-weight: bold\"> Trainable params: </span><span style=\"color: #00af00; text-decoration-color: #00af00\">304,746</span> (1.16 MB)\n",
       "</pre>\n"
      ],
      "text/plain": [
       "\u001b[1m Trainable params: \u001b[0m\u001b[38;5;34m304,746\u001b[0m (1.16 MB)\n"
      ]
     },
     "metadata": {},
     "output_type": "display_data"
    },
    {
     "data": {
      "text/html": [
       "<pre style=\"white-space:pre;overflow-x:auto;line-height:normal;font-family:Menlo,'DejaVu Sans Mono',consolas,'Courier New',monospace\"><span style=\"font-weight: bold\"> Non-trainable params: </span><span style=\"color: #00af00; text-decoration-color: #00af00\">0</span> (0.00 B)\n",
       "</pre>\n"
      ],
      "text/plain": [
       "\u001b[1m Non-trainable params: \u001b[0m\u001b[38;5;34m0\u001b[0m (0.00 B)\n"
      ]
     },
     "metadata": {},
     "output_type": "display_data"
    }
   ],
   "source": [
    "model.summary()"
   ]
  },
  {
   "cell_type": "code",
   "execution_count": 31,
   "id": "a12f4129-7dec-4b86-b71a-144bc8ae71cf",
   "metadata": {},
   "outputs": [
    {
     "data": {
      "text/plain": [
       "array([[[0.0000000e+00],\n",
       "        [0.0000000e+00],\n",
       "        [0.0000000e+00],\n",
       "        [0.0000000e+00],\n",
       "        [0.0000000e+00],\n",
       "        [0.0000000e+00],\n",
       "        [0.0000000e+00],\n",
       "        [0.0000000e+00],\n",
       "        [0.0000000e+00],\n",
       "        [0.0000000e+00],\n",
       "        [0.0000000e+00],\n",
       "        [0.0000000e+00],\n",
       "        [0.0000000e+00],\n",
       "        [0.0000000e+00],\n",
       "        [0.0000000e+00],\n",
       "        [0.0000000e+00],\n",
       "        [0.0000000e+00],\n",
       "        [0.0000000e+00],\n",
       "        [0.0000000e+00],\n",
       "        [0.0000000e+00],\n",
       "        [0.0000000e+00],\n",
       "        [0.0000000e+00],\n",
       "        [0.0000000e+00],\n",
       "        [0.0000000e+00],\n",
       "        [0.0000000e+00],\n",
       "        [0.0000000e+00],\n",
       "        [0.0000000e+00],\n",
       "        [0.0000000e+00]],\n",
       "\n",
       "       [[0.0000000e+00],\n",
       "        [0.0000000e+00],\n",
       "        [0.0000000e+00],\n",
       "        [0.0000000e+00],\n",
       "        [0.0000000e+00],\n",
       "        [0.0000000e+00],\n",
       "        [0.0000000e+00],\n",
       "        [0.0000000e+00],\n",
       "        [0.0000000e+00],\n",
       "        [0.0000000e+00],\n",
       "        [0.0000000e+00],\n",
       "        [0.0000000e+00],\n",
       "        [0.0000000e+00],\n",
       "        [0.0000000e+00],\n",
       "        [0.0000000e+00],\n",
       "        [0.0000000e+00],\n",
       "        [0.0000000e+00],\n",
       "        [0.0000000e+00],\n",
       "        [0.0000000e+00],\n",
       "        [0.0000000e+00],\n",
       "        [0.0000000e+00],\n",
       "        [0.0000000e+00],\n",
       "        [0.0000000e+00],\n",
       "        [0.0000000e+00],\n",
       "        [0.0000000e+00],\n",
       "        [0.0000000e+00],\n",
       "        [0.0000000e+00],\n",
       "        [0.0000000e+00]],\n",
       "\n",
       "       [[0.0000000e+00],\n",
       "        [0.0000000e+00],\n",
       "        [0.0000000e+00],\n",
       "        [0.0000000e+00],\n",
       "        [0.0000000e+00],\n",
       "        [0.0000000e+00],\n",
       "        [0.0000000e+00],\n",
       "        [0.0000000e+00],\n",
       "        [0.0000000e+00],\n",
       "        [0.0000000e+00],\n",
       "        [0.0000000e+00],\n",
       "        [0.0000000e+00],\n",
       "        [0.0000000e+00],\n",
       "        [0.0000000e+00],\n",
       "        [0.0000000e+00],\n",
       "        [0.0000000e+00],\n",
       "        [0.0000000e+00],\n",
       "        [0.0000000e+00],\n",
       "        [0.0000000e+00],\n",
       "        [0.0000000e+00],\n",
       "        [0.0000000e+00],\n",
       "        [0.0000000e+00],\n",
       "        [0.0000000e+00],\n",
       "        [0.0000000e+00],\n",
       "        [0.0000000e+00],\n",
       "        [0.0000000e+00],\n",
       "        [0.0000000e+00],\n",
       "        [0.0000000e+00]],\n",
       "\n",
       "       [[0.0000000e+00],\n",
       "        [0.0000000e+00],\n",
       "        [0.0000000e+00],\n",
       "        [0.0000000e+00],\n",
       "        [0.0000000e+00],\n",
       "        [0.0000000e+00],\n",
       "        [0.0000000e+00],\n",
       "        [0.0000000e+00],\n",
       "        [0.0000000e+00],\n",
       "        [0.0000000e+00],\n",
       "        [0.0000000e+00],\n",
       "        [0.0000000e+00],\n",
       "        [0.0000000e+00],\n",
       "        [0.0000000e+00],\n",
       "        [0.0000000e+00],\n",
       "        [0.0000000e+00],\n",
       "        [0.0000000e+00],\n",
       "        [0.0000000e+00],\n",
       "        [0.0000000e+00],\n",
       "        [0.0000000e+00],\n",
       "        [0.0000000e+00],\n",
       "        [0.0000000e+00],\n",
       "        [0.0000000e+00],\n",
       "        [0.0000000e+00],\n",
       "        [0.0000000e+00],\n",
       "        [0.0000000e+00],\n",
       "        [0.0000000e+00],\n",
       "        [0.0000000e+00]],\n",
       "\n",
       "       [[0.0000000e+00],\n",
       "        [0.0000000e+00],\n",
       "        [0.0000000e+00],\n",
       "        [0.0000000e+00],\n",
       "        [0.0000000e+00],\n",
       "        [0.0000000e+00],\n",
       "        [0.0000000e+00],\n",
       "        [0.0000000e+00],\n",
       "        [0.0000000e+00],\n",
       "        [0.0000000e+00],\n",
       "        [0.0000000e+00],\n",
       "        [0.0000000e+00],\n",
       "        [0.0000000e+00],\n",
       "        [0.0000000e+00],\n",
       "        [0.0000000e+00],\n",
       "        [0.0000000e+00],\n",
       "        [0.0000000e+00],\n",
       "        [0.0000000e+00],\n",
       "        [0.0000000e+00],\n",
       "        [0.0000000e+00],\n",
       "        [0.0000000e+00],\n",
       "        [0.0000000e+00],\n",
       "        [0.0000000e+00],\n",
       "        [0.0000000e+00],\n",
       "        [0.0000000e+00],\n",
       "        [0.0000000e+00],\n",
       "        [0.0000000e+00],\n",
       "        [0.0000000e+00]],\n",
       "\n",
       "       [[0.0000000e+00],\n",
       "        [0.0000000e+00],\n",
       "        [0.0000000e+00],\n",
       "        [0.0000000e+00],\n",
       "        [0.0000000e+00],\n",
       "        [0.0000000e+00],\n",
       "        [0.0000000e+00],\n",
       "        [0.0000000e+00],\n",
       "        [0.0000000e+00],\n",
       "        [0.0000000e+00],\n",
       "        [0.0000000e+00],\n",
       "        [0.0000000e+00],\n",
       "        [4.6136101e-05],\n",
       "        [2.7681663e-04],\n",
       "        [2.7681663e-04],\n",
       "        [2.7681663e-04],\n",
       "        [1.9377163e-03],\n",
       "        [2.0915035e-03],\n",
       "        [2.6912726e-03],\n",
       "        [3.9984621e-04],\n",
       "        [2.5528644e-03],\n",
       "        [3.9215689e-03],\n",
       "        [3.7985391e-03],\n",
       "        [1.9530950e-03],\n",
       "        [0.0000000e+00],\n",
       "        [0.0000000e+00],\n",
       "        [0.0000000e+00],\n",
       "        [0.0000000e+00]],\n",
       "\n",
       "       [[0.0000000e+00],\n",
       "        [0.0000000e+00],\n",
       "        [0.0000000e+00],\n",
       "        [0.0000000e+00],\n",
       "        [0.0000000e+00],\n",
       "        [0.0000000e+00],\n",
       "        [0.0000000e+00],\n",
       "        [0.0000000e+00],\n",
       "        [4.6136102e-04],\n",
       "        [5.5363326e-04],\n",
       "        [1.4455979e-03],\n",
       "        [2.3683200e-03],\n",
       "        [2.6143792e-03],\n",
       "        [3.8908112e-03],\n",
       "        [3.8908112e-03],\n",
       "        [3.8908112e-03],\n",
       "        [3.8908112e-03],\n",
       "        [3.8908112e-03],\n",
       "        [3.4602077e-03],\n",
       "        [2.6451366e-03],\n",
       "        [3.8908112e-03],\n",
       "        [3.7216456e-03],\n",
       "        [2.9988466e-03],\n",
       "        [9.8423695e-04],\n",
       "        [0.0000000e+00],\n",
       "        [0.0000000e+00],\n",
       "        [0.0000000e+00],\n",
       "        [0.0000000e+00]],\n",
       "\n",
       "       [[0.0000000e+00],\n",
       "        [0.0000000e+00],\n",
       "        [0.0000000e+00],\n",
       "        [0.0000000e+00],\n",
       "        [0.0000000e+00],\n",
       "        [0.0000000e+00],\n",
       "        [0.0000000e+00],\n",
       "        [7.5355632e-04],\n",
       "        [3.6601308e-03],\n",
       "        [3.8908112e-03],\n",
       "        [3.8908112e-03],\n",
       "        [3.8908112e-03],\n",
       "        [3.8908112e-03],\n",
       "        [3.8908112e-03],\n",
       "        [3.8908112e-03],\n",
       "        [3.8908112e-03],\n",
       "        [3.8908112e-03],\n",
       "        [3.8600538e-03],\n",
       "        [1.4302192e-03],\n",
       "        [1.2610535e-03],\n",
       "        [1.2610535e-03],\n",
       "        [8.6120726e-04],\n",
       "        [5.9976935e-04],\n",
       "        [0.0000000e+00],\n",
       "        [0.0000000e+00],\n",
       "        [0.0000000e+00],\n",
       "        [0.0000000e+00],\n",
       "        [0.0000000e+00]],\n",
       "\n",
       "       [[0.0000000e+00],\n",
       "        [0.0000000e+00],\n",
       "        [0.0000000e+00],\n",
       "        [0.0000000e+00],\n",
       "        [0.0000000e+00],\n",
       "        [0.0000000e+00],\n",
       "        [0.0000000e+00],\n",
       "        [2.7681663e-04],\n",
       "        [3.3679355e-03],\n",
       "        [3.8908112e-03],\n",
       "        [3.8908112e-03],\n",
       "        [3.8908112e-03],\n",
       "        [3.8908112e-03],\n",
       "        [3.8908112e-03],\n",
       "        [3.0449827e-03],\n",
       "        [2.7989235e-03],\n",
       "        [3.7985391e-03],\n",
       "        [3.7062669e-03],\n",
       "        [0.0000000e+00],\n",
       "        [0.0000000e+00],\n",
       "        [0.0000000e+00],\n",
       "        [0.0000000e+00],\n",
       "        [0.0000000e+00],\n",
       "        [0.0000000e+00],\n",
       "        [0.0000000e+00],\n",
       "        [0.0000000e+00],\n",
       "        [0.0000000e+00],\n",
       "        [0.0000000e+00]],\n",
       "\n",
       "       [[0.0000000e+00],\n",
       "        [0.0000000e+00],\n",
       "        [0.0000000e+00],\n",
       "        [0.0000000e+00],\n",
       "        [0.0000000e+00],\n",
       "        [0.0000000e+00],\n",
       "        [0.0000000e+00],\n",
       "        [0.0000000e+00],\n",
       "        [1.2302961e-03],\n",
       "        [2.3990774e-03],\n",
       "        [1.6455210e-03],\n",
       "        [3.8908112e-03],\n",
       "        [3.8908112e-03],\n",
       "        [3.1526336e-03],\n",
       "        [1.6916571e-04],\n",
       "        [0.0000000e+00],\n",
       "        [6.6128414e-04],\n",
       "        [2.3683200e-03],\n",
       "        [0.0000000e+00],\n",
       "        [0.0000000e+00],\n",
       "        [0.0000000e+00],\n",
       "        [0.0000000e+00],\n",
       "        [0.0000000e+00],\n",
       "        [0.0000000e+00],\n",
       "        [0.0000000e+00],\n",
       "        [0.0000000e+00],\n",
       "        [0.0000000e+00],\n",
       "        [0.0000000e+00]],\n",
       "\n",
       "       [[0.0000000e+00],\n",
       "        [0.0000000e+00],\n",
       "        [0.0000000e+00],\n",
       "        [0.0000000e+00],\n",
       "        [0.0000000e+00],\n",
       "        [0.0000000e+00],\n",
       "        [0.0000000e+00],\n",
       "        [0.0000000e+00],\n",
       "        [0.0000000e+00],\n",
       "        [2.1530181e-04],\n",
       "        [1.5378702e-05],\n",
       "        [2.3683200e-03],\n",
       "        [3.8908112e-03],\n",
       "        [1.3840831e-03],\n",
       "        [0.0000000e+00],\n",
       "        [0.0000000e+00],\n",
       "        [0.0000000e+00],\n",
       "        [0.0000000e+00],\n",
       "        [0.0000000e+00],\n",
       "        [0.0000000e+00],\n",
       "        [0.0000000e+00],\n",
       "        [0.0000000e+00],\n",
       "        [0.0000000e+00],\n",
       "        [0.0000000e+00],\n",
       "        [0.0000000e+00],\n",
       "        [0.0000000e+00],\n",
       "        [0.0000000e+00],\n",
       "        [0.0000000e+00]],\n",
       "\n",
       "       [[0.0000000e+00],\n",
       "        [0.0000000e+00],\n",
       "        [0.0000000e+00],\n",
       "        [0.0000000e+00],\n",
       "        [0.0000000e+00],\n",
       "        [0.0000000e+00],\n",
       "        [0.0000000e+00],\n",
       "        [0.0000000e+00],\n",
       "        [0.0000000e+00],\n",
       "        [0.0000000e+00],\n",
       "        [0.0000000e+00],\n",
       "        [2.1376396e-03],\n",
       "        [3.8908112e-03],\n",
       "        [2.9219531e-03],\n",
       "        [3.0757405e-05],\n",
       "        [0.0000000e+00],\n",
       "        [0.0000000e+00],\n",
       "        [0.0000000e+00],\n",
       "        [0.0000000e+00],\n",
       "        [0.0000000e+00],\n",
       "        [0.0000000e+00],\n",
       "        [0.0000000e+00],\n",
       "        [0.0000000e+00],\n",
       "        [0.0000000e+00],\n",
       "        [0.0000000e+00],\n",
       "        [0.0000000e+00],\n",
       "        [0.0000000e+00],\n",
       "        [0.0000000e+00]],\n",
       "\n",
       "       [[0.0000000e+00],\n",
       "        [0.0000000e+00],\n",
       "        [0.0000000e+00],\n",
       "        [0.0000000e+00],\n",
       "        [0.0000000e+00],\n",
       "        [0.0000000e+00],\n",
       "        [0.0000000e+00],\n",
       "        [0.0000000e+00],\n",
       "        [0.0000000e+00],\n",
       "        [0.0000000e+00],\n",
       "        [0.0000000e+00],\n",
       "        [1.6916571e-04],\n",
       "        [2.9219531e-03],\n",
       "        [3.8908112e-03],\n",
       "        [1.0765091e-03],\n",
       "        [0.0000000e+00],\n",
       "        [0.0000000e+00],\n",
       "        [0.0000000e+00],\n",
       "        [0.0000000e+00],\n",
       "        [0.0000000e+00],\n",
       "        [0.0000000e+00],\n",
       "        [0.0000000e+00],\n",
       "        [0.0000000e+00],\n",
       "        [0.0000000e+00],\n",
       "        [0.0000000e+00],\n",
       "        [0.0000000e+00],\n",
       "        [0.0000000e+00],\n",
       "        [0.0000000e+00]],\n",
       "\n",
       "       [[0.0000000e+00],\n",
       "        [0.0000000e+00],\n",
       "        [0.0000000e+00],\n",
       "        [0.0000000e+00],\n",
       "        [0.0000000e+00],\n",
       "        [0.0000000e+00],\n",
       "        [0.0000000e+00],\n",
       "        [0.0000000e+00],\n",
       "        [0.0000000e+00],\n",
       "        [0.0000000e+00],\n",
       "        [0.0000000e+00],\n",
       "        [0.0000000e+00],\n",
       "        [5.3825456e-04],\n",
       "        [3.7062669e-03],\n",
       "        [3.4602077e-03],\n",
       "        [2.4605922e-03],\n",
       "        [1.6608997e-03],\n",
       "        [1.5378702e-05],\n",
       "        [0.0000000e+00],\n",
       "        [0.0000000e+00],\n",
       "        [0.0000000e+00],\n",
       "        [0.0000000e+00],\n",
       "        [0.0000000e+00],\n",
       "        [0.0000000e+00],\n",
       "        [0.0000000e+00],\n",
       "        [0.0000000e+00],\n",
       "        [0.0000000e+00],\n",
       "        [0.0000000e+00]],\n",
       "\n",
       "       [[0.0000000e+00],\n",
       "        [0.0000000e+00],\n",
       "        [0.0000000e+00],\n",
       "        [0.0000000e+00],\n",
       "        [0.0000000e+00],\n",
       "        [0.0000000e+00],\n",
       "        [0.0000000e+00],\n",
       "        [0.0000000e+00],\n",
       "        [0.0000000e+00],\n",
       "        [0.0000000e+00],\n",
       "        [0.0000000e+00],\n",
       "        [0.0000000e+00],\n",
       "        [0.0000000e+00],\n",
       "        [1.2456748e-03],\n",
       "        [3.6908882e-03],\n",
       "        [3.8908112e-03],\n",
       "        [3.8908112e-03],\n",
       "        [1.8300654e-03],\n",
       "        [3.8446751e-04],\n",
       "        [0.0000000e+00],\n",
       "        [0.0000000e+00],\n",
       "        [0.0000000e+00],\n",
       "        [0.0000000e+00],\n",
       "        [0.0000000e+00],\n",
       "        [0.0000000e+00],\n",
       "        [0.0000000e+00],\n",
       "        [0.0000000e+00],\n",
       "        [0.0000000e+00]],\n",
       "\n",
       "       [[0.0000000e+00],\n",
       "        [0.0000000e+00],\n",
       "        [0.0000000e+00],\n",
       "        [0.0000000e+00],\n",
       "        [0.0000000e+00],\n",
       "        [0.0000000e+00],\n",
       "        [0.0000000e+00],\n",
       "        [0.0000000e+00],\n",
       "        [0.0000000e+00],\n",
       "        [0.0000000e+00],\n",
       "        [0.0000000e+00],\n",
       "        [0.0000000e+00],\n",
       "        [0.0000000e+00],\n",
       "        [0.0000000e+00],\n",
       "        [6.9204153e-04],\n",
       "        [2.8604383e-03],\n",
       "        [3.8908112e-03],\n",
       "        [3.8908112e-03],\n",
       "        [2.3068052e-03],\n",
       "        [4.1522493e-04],\n",
       "        [0.0000000e+00],\n",
       "        [0.0000000e+00],\n",
       "        [0.0000000e+00],\n",
       "        [0.0000000e+00],\n",
       "        [0.0000000e+00],\n",
       "        [0.0000000e+00],\n",
       "        [0.0000000e+00],\n",
       "        [0.0000000e+00]],\n",
       "\n",
       "       [[0.0000000e+00],\n",
       "        [0.0000000e+00],\n",
       "        [0.0000000e+00],\n",
       "        [0.0000000e+00],\n",
       "        [0.0000000e+00],\n",
       "        [0.0000000e+00],\n",
       "        [0.0000000e+00],\n",
       "        [0.0000000e+00],\n",
       "        [0.0000000e+00],\n",
       "        [0.0000000e+00],\n",
       "        [0.0000000e+00],\n",
       "        [0.0000000e+00],\n",
       "        [0.0000000e+00],\n",
       "        [0.0000000e+00],\n",
       "        [0.0000000e+00],\n",
       "        [2.4605924e-04],\n",
       "        [1.4302192e-03],\n",
       "        [3.8754325e-03],\n",
       "        [3.8908112e-03],\n",
       "        [2.8758170e-03],\n",
       "        [0.0000000e+00],\n",
       "        [0.0000000e+00],\n",
       "        [0.0000000e+00],\n",
       "        [0.0000000e+00],\n",
       "        [0.0000000e+00],\n",
       "        [0.0000000e+00],\n",
       "        [0.0000000e+00],\n",
       "        [0.0000000e+00]],\n",
       "\n",
       "       [[0.0000000e+00],\n",
       "        [0.0000000e+00],\n",
       "        [0.0000000e+00],\n",
       "        [0.0000000e+00],\n",
       "        [0.0000000e+00],\n",
       "        [0.0000000e+00],\n",
       "        [0.0000000e+00],\n",
       "        [0.0000000e+00],\n",
       "        [0.0000000e+00],\n",
       "        [0.0000000e+00],\n",
       "        [0.0000000e+00],\n",
       "        [0.0000000e+00],\n",
       "        [0.0000000e+00],\n",
       "        [0.0000000e+00],\n",
       "        [0.0000000e+00],\n",
       "        [0.0000000e+00],\n",
       "        [0.0000000e+00],\n",
       "        [3.8292964e-03],\n",
       "        [3.8908112e-03],\n",
       "        [3.8292964e-03],\n",
       "        [9.8423695e-04],\n",
       "        [0.0000000e+00],\n",
       "        [0.0000000e+00],\n",
       "        [0.0000000e+00],\n",
       "        [0.0000000e+00],\n",
       "        [0.0000000e+00],\n",
       "        [0.0000000e+00],\n",
       "        [0.0000000e+00]],\n",
       "\n",
       "       [[0.0000000e+00],\n",
       "        [0.0000000e+00],\n",
       "        [0.0000000e+00],\n",
       "        [0.0000000e+00],\n",
       "        [0.0000000e+00],\n",
       "        [0.0000000e+00],\n",
       "        [0.0000000e+00],\n",
       "        [0.0000000e+00],\n",
       "        [0.0000000e+00],\n",
       "        [0.0000000e+00],\n",
       "        [0.0000000e+00],\n",
       "        [0.0000000e+00],\n",
       "        [0.0000000e+00],\n",
       "        [0.0000000e+00],\n",
       "        [7.0742023e-04],\n",
       "        [1.9992313e-03],\n",
       "        [2.8143022e-03],\n",
       "        [3.8908112e-03],\n",
       "        [3.8908112e-03],\n",
       "        [3.1833909e-03],\n",
       "        [3.0757405e-05],\n",
       "        [0.0000000e+00],\n",
       "        [0.0000000e+00],\n",
       "        [0.0000000e+00],\n",
       "        [0.0000000e+00],\n",
       "        [0.0000000e+00],\n",
       "        [0.0000000e+00],\n",
       "        [0.0000000e+00]],\n",
       "\n",
       "       [[0.0000000e+00],\n",
       "        [0.0000000e+00],\n",
       "        [0.0000000e+00],\n",
       "        [0.0000000e+00],\n",
       "        [0.0000000e+00],\n",
       "        [0.0000000e+00],\n",
       "        [0.0000000e+00],\n",
       "        [0.0000000e+00],\n",
       "        [0.0000000e+00],\n",
       "        [0.0000000e+00],\n",
       "        [0.0000000e+00],\n",
       "        [0.0000000e+00],\n",
       "        [5.9976935e-04],\n",
       "        [2.2760478e-03],\n",
       "        [3.5217225e-03],\n",
       "        [3.8908112e-03],\n",
       "        [3.8908112e-03],\n",
       "        [3.8908112e-03],\n",
       "        [3.8446751e-03],\n",
       "        [2.7989235e-03],\n",
       "        [0.0000000e+00],\n",
       "        [0.0000000e+00],\n",
       "        [0.0000000e+00],\n",
       "        [0.0000000e+00],\n",
       "        [0.0000000e+00],\n",
       "        [0.0000000e+00],\n",
       "        [0.0000000e+00],\n",
       "        [0.0000000e+00]],\n",
       "\n",
       "       [[0.0000000e+00],\n",
       "        [0.0000000e+00],\n",
       "        [0.0000000e+00],\n",
       "        [0.0000000e+00],\n",
       "        [0.0000000e+00],\n",
       "        [0.0000000e+00],\n",
       "        [0.0000000e+00],\n",
       "        [0.0000000e+00],\n",
       "        [0.0000000e+00],\n",
       "        [0.0000000e+00],\n",
       "        [3.6908881e-04],\n",
       "        [1.7531719e-03],\n",
       "        [3.3986929e-03],\n",
       "        [3.8908112e-03],\n",
       "        [3.8908112e-03],\n",
       "        [3.8908112e-03],\n",
       "        [3.8908112e-03],\n",
       "        [3.0911188e-03],\n",
       "        [1.1995387e-03],\n",
       "        [0.0000000e+00],\n",
       "        [0.0000000e+00],\n",
       "        [0.0000000e+00],\n",
       "        [0.0000000e+00],\n",
       "        [0.0000000e+00],\n",
       "        [0.0000000e+00],\n",
       "        [0.0000000e+00],\n",
       "        [0.0000000e+00],\n",
       "        [0.0000000e+00]],\n",
       "\n",
       "       [[0.0000000e+00],\n",
       "        [0.0000000e+00],\n",
       "        [0.0000000e+00],\n",
       "        [0.0000000e+00],\n",
       "        [0.0000000e+00],\n",
       "        [0.0000000e+00],\n",
       "        [0.0000000e+00],\n",
       "        [0.0000000e+00],\n",
       "        [3.5371011e-04],\n",
       "        [1.0149943e-03],\n",
       "        [3.2756634e-03],\n",
       "        [3.8908112e-03],\n",
       "        [3.8908112e-03],\n",
       "        [3.8908112e-03],\n",
       "        [3.8908112e-03],\n",
       "        [3.0449827e-03],\n",
       "        [1.2456748e-03],\n",
       "        [3.0757405e-05],\n",
       "        [0.0000000e+00],\n",
       "        [0.0000000e+00],\n",
       "        [0.0000000e+00],\n",
       "        [0.0000000e+00],\n",
       "        [0.0000000e+00],\n",
       "        [0.0000000e+00],\n",
       "        [0.0000000e+00],\n",
       "        [0.0000000e+00],\n",
       "        [0.0000000e+00],\n",
       "        [0.0000000e+00]],\n",
       "\n",
       "       [[0.0000000e+00],\n",
       "        [0.0000000e+00],\n",
       "        [0.0000000e+00],\n",
       "        [0.0000000e+00],\n",
       "        [0.0000000e+00],\n",
       "        [0.0000000e+00],\n",
       "        [2.7681663e-04],\n",
       "        [2.6297579e-03],\n",
       "        [3.3679355e-03],\n",
       "        [3.8908112e-03],\n",
       "        [3.8908112e-03],\n",
       "        [3.8908112e-03],\n",
       "        [3.8908112e-03],\n",
       "        [2.9988466e-03],\n",
       "        [1.2302961e-03],\n",
       "        [1.3840832e-04],\n",
       "        [0.0000000e+00],\n",
       "        [0.0000000e+00],\n",
       "        [0.0000000e+00],\n",
       "        [0.0000000e+00],\n",
       "        [0.0000000e+00],\n",
       "        [0.0000000e+00],\n",
       "        [0.0000000e+00],\n",
       "        [0.0000000e+00],\n",
       "        [0.0000000e+00],\n",
       "        [0.0000000e+00],\n",
       "        [0.0000000e+00],\n",
       "        [0.0000000e+00]],\n",
       "\n",
       "       [[0.0000000e+00],\n",
       "        [0.0000000e+00],\n",
       "        [0.0000000e+00],\n",
       "        [0.0000000e+00],\n",
       "        [8.4582856e-04],\n",
       "        [2.6451366e-03],\n",
       "        [3.4755864e-03],\n",
       "        [3.8908112e-03],\n",
       "        [3.8908112e-03],\n",
       "        [3.8908112e-03],\n",
       "        [3.8908112e-03],\n",
       "        [3.7524030e-03],\n",
       "        [2.0453674e-03],\n",
       "        [1.6916571e-04],\n",
       "        [0.0000000e+00],\n",
       "        [0.0000000e+00],\n",
       "        [0.0000000e+00],\n",
       "        [0.0000000e+00],\n",
       "        [0.0000000e+00],\n",
       "        [0.0000000e+00],\n",
       "        [0.0000000e+00],\n",
       "        [0.0000000e+00],\n",
       "        [0.0000000e+00],\n",
       "        [0.0000000e+00],\n",
       "        [0.0000000e+00],\n",
       "        [0.0000000e+00],\n",
       "        [0.0000000e+00],\n",
       "        [0.0000000e+00]],\n",
       "\n",
       "       [[0.0000000e+00],\n",
       "        [0.0000000e+00],\n",
       "        [0.0000000e+00],\n",
       "        [0.0000000e+00],\n",
       "        [2.0915035e-03],\n",
       "        [3.8908112e-03],\n",
       "        [3.8908112e-03],\n",
       "        [3.8908112e-03],\n",
       "        [3.2602844e-03],\n",
       "        [2.0761248e-03],\n",
       "        [2.0299887e-03],\n",
       "        [2.4605924e-04],\n",
       "        [0.0000000e+00],\n",
       "        [0.0000000e+00],\n",
       "        [0.0000000e+00],\n",
       "        [0.0000000e+00],\n",
       "        [0.0000000e+00],\n",
       "        [0.0000000e+00],\n",
       "        [0.0000000e+00],\n",
       "        [0.0000000e+00],\n",
       "        [0.0000000e+00],\n",
       "        [0.0000000e+00],\n",
       "        [0.0000000e+00],\n",
       "        [0.0000000e+00],\n",
       "        [0.0000000e+00],\n",
       "        [0.0000000e+00],\n",
       "        [0.0000000e+00],\n",
       "        [0.0000000e+00]],\n",
       "\n",
       "       [[0.0000000e+00],\n",
       "        [0.0000000e+00],\n",
       "        [0.0000000e+00],\n",
       "        [0.0000000e+00],\n",
       "        [0.0000000e+00],\n",
       "        [0.0000000e+00],\n",
       "        [0.0000000e+00],\n",
       "        [0.0000000e+00],\n",
       "        [0.0000000e+00],\n",
       "        [0.0000000e+00],\n",
       "        [0.0000000e+00],\n",
       "        [0.0000000e+00],\n",
       "        [0.0000000e+00],\n",
       "        [0.0000000e+00],\n",
       "        [0.0000000e+00],\n",
       "        [0.0000000e+00],\n",
       "        [0.0000000e+00],\n",
       "        [0.0000000e+00],\n",
       "        [0.0000000e+00],\n",
       "        [0.0000000e+00],\n",
       "        [0.0000000e+00],\n",
       "        [0.0000000e+00],\n",
       "        [0.0000000e+00],\n",
       "        [0.0000000e+00],\n",
       "        [0.0000000e+00],\n",
       "        [0.0000000e+00],\n",
       "        [0.0000000e+00],\n",
       "        [0.0000000e+00]],\n",
       "\n",
       "       [[0.0000000e+00],\n",
       "        [0.0000000e+00],\n",
       "        [0.0000000e+00],\n",
       "        [0.0000000e+00],\n",
       "        [0.0000000e+00],\n",
       "        [0.0000000e+00],\n",
       "        [0.0000000e+00],\n",
       "        [0.0000000e+00],\n",
       "        [0.0000000e+00],\n",
       "        [0.0000000e+00],\n",
       "        [0.0000000e+00],\n",
       "        [0.0000000e+00],\n",
       "        [0.0000000e+00],\n",
       "        [0.0000000e+00],\n",
       "        [0.0000000e+00],\n",
       "        [0.0000000e+00],\n",
       "        [0.0000000e+00],\n",
       "        [0.0000000e+00],\n",
       "        [0.0000000e+00],\n",
       "        [0.0000000e+00],\n",
       "        [0.0000000e+00],\n",
       "        [0.0000000e+00],\n",
       "        [0.0000000e+00],\n",
       "        [0.0000000e+00],\n",
       "        [0.0000000e+00],\n",
       "        [0.0000000e+00],\n",
       "        [0.0000000e+00],\n",
       "        [0.0000000e+00]],\n",
       "\n",
       "       [[0.0000000e+00],\n",
       "        [0.0000000e+00],\n",
       "        [0.0000000e+00],\n",
       "        [0.0000000e+00],\n",
       "        [0.0000000e+00],\n",
       "        [0.0000000e+00],\n",
       "        [0.0000000e+00],\n",
       "        [0.0000000e+00],\n",
       "        [0.0000000e+00],\n",
       "        [0.0000000e+00],\n",
       "        [0.0000000e+00],\n",
       "        [0.0000000e+00],\n",
       "        [0.0000000e+00],\n",
       "        [0.0000000e+00],\n",
       "        [0.0000000e+00],\n",
       "        [0.0000000e+00],\n",
       "        [0.0000000e+00],\n",
       "        [0.0000000e+00],\n",
       "        [0.0000000e+00],\n",
       "        [0.0000000e+00],\n",
       "        [0.0000000e+00],\n",
       "        [0.0000000e+00],\n",
       "        [0.0000000e+00],\n",
       "        [0.0000000e+00],\n",
       "        [0.0000000e+00],\n",
       "        [0.0000000e+00],\n",
       "        [0.0000000e+00],\n",
       "        [0.0000000e+00]]], dtype=float32)"
      ]
     },
     "execution_count": 31,
     "metadata": {},
     "output_type": "execute_result"
    }
   ],
   "source": [
    "X_train[0]"
   ]
  },
  {
   "cell_type": "code",
   "execution_count": 32,
   "id": "e7f817cb-e6ed-4737-a473-050adfd15af3",
   "metadata": {},
   "outputs": [
    {
     "name": "stdout",
     "output_type": "stream",
     "text": [
      "Epoch 1/5\n",
      "\u001b[1m1875/1875\u001b[0m \u001b[32m━━━━━━━━━━━━━━━━━━━━\u001b[0m\u001b[37m\u001b[0m \u001b[1m16s\u001b[0m 8ms/step - accuracy: 0.2729 - loss: 1.9446\n",
      "Epoch 2/5\n",
      "\u001b[1m1875/1875\u001b[0m \u001b[32m━━━━━━━━━━━━━━━━━━━━\u001b[0m\u001b[37m\u001b[0m \u001b[1m15s\u001b[0m 8ms/step - accuracy: 0.8745 - loss: 0.4029\n",
      "Epoch 3/5\n",
      "\u001b[1m1875/1875\u001b[0m \u001b[32m━━━━━━━━━━━━━━━━━━━━\u001b[0m\u001b[37m\u001b[0m \u001b[1m15s\u001b[0m 8ms/step - accuracy: 0.9052 - loss: 0.3080\n",
      "Epoch 4/5\n",
      "\u001b[1m1875/1875\u001b[0m \u001b[32m━━━━━━━━━━━━━━━━━━━━\u001b[0m\u001b[37m\u001b[0m \u001b[1m15s\u001b[0m 8ms/step - accuracy: 0.9197 - loss: 0.2613\n",
      "Epoch 5/5\n",
      "\u001b[1m1875/1875\u001b[0m \u001b[32m━━━━━━━━━━━━━━━━━━━━\u001b[0m\u001b[37m\u001b[0m \u001b[1m16s\u001b[0m 8ms/step - accuracy: 0.9342 - loss: 0.2152\n"
     ]
    },
    {
     "data": {
      "text/plain": [
       "<keras.src.callbacks.history.History at 0x16e21653a70>"
      ]
     },
     "execution_count": 32,
     "metadata": {},
     "output_type": "execute_result"
    }
   ],
   "source": [
    "model.fit(X_train,y_train,epochs=5)"
   ]
  },
  {
   "cell_type": "code",
   "execution_count": 33,
   "id": "307da1aa-783e-4e3a-a9a4-62576080fd5d",
   "metadata": {},
   "outputs": [
    {
     "data": {
      "text/plain": [
       "(60000,)"
      ]
     },
     "execution_count": 33,
     "metadata": {},
     "output_type": "execute_result"
    }
   ],
   "source": [
    "y_train.shape"
   ]
  },
  {
   "cell_type": "code",
   "execution_count": 34,
   "id": "a8c79dbb-b734-41ca-a807-0cdc176ac977",
   "metadata": {},
   "outputs": [
    {
     "data": {
      "text/plain": [
       "5"
      ]
     },
     "execution_count": 34,
     "metadata": {},
     "output_type": "execute_result"
    }
   ],
   "source": [
    "y_train[0]"
   ]
  },
  {
   "cell_type": "code",
   "execution_count": 36,
   "id": "01667872-8c53-4610-bfbe-171cee0cf369",
   "metadata": {},
   "outputs": [
    {
     "name": "stdout",
     "output_type": "stream",
     "text": [
      "\u001b[1m1875/1875\u001b[0m \u001b[32m━━━━━━━━━━━━━━━━━━━━\u001b[0m\u001b[37m\u001b[0m \u001b[1m7s\u001b[0m 4ms/step\n"
     ]
    }
   ],
   "source": [
    "y_pred = model.predict(X_test)"
   ]
  },
  {
   "cell_type": "code",
   "execution_count": 37,
   "id": "dea0de7b-44bc-4f75-a83b-4b2bccfa70db",
   "metadata": {},
   "outputs": [],
   "source": [
    "y_pred_num = [np.argmax(i) for i in y_pred]"
   ]
  },
  {
   "cell_type": "code",
   "execution_count": 41,
   "id": "69b16c33-0952-40f6-9c7e-8f98a1121d1a",
   "metadata": {},
   "outputs": [
    {
     "data": {
      "text/plain": [
       "<tf.Tensor: shape=(10, 10), dtype=int32, numpy=\n",
       "array([[ 973,    1,    1,    1,    1,    0,    1,    1,    0,    1],\n",
       "       [   0, 1121,    3,    2,    0,    2,    2,    1,    4,    0],\n",
       "       [   3,    1, 1005,    7,    5,    0,    1,    3,    6,    1],\n",
       "       [   0,    0,    3,  981,    0,   13,    0,    4,    5,    4],\n",
       "       [   1,    0,    3,    0,  969,    0,    1,    2,    0,    6],\n",
       "       [   2,    0,    0,    2,    2,  881,    2,    1,    0,    2],\n",
       "       [   9,    3,    5,    1,    4,    3,  931,    1,    1,    0],\n",
       "       [   2,    3,   10,    0,    1,    0,    0, 1003,    2,    7],\n",
       "       [   6,    1,    3,    7,    7,    8,    1,    4,  932,    5],\n",
       "       [   2,    2,    0,    5,   11,    3,    0,    4,    2,  980]])>"
      ]
     },
     "execution_count": 41,
     "metadata": {},
     "output_type": "execute_result"
    }
   ],
   "source": [
    "con_mat"
   ]
  },
  {
   "cell_type": "code",
   "execution_count": 42,
   "id": "7b6db702-3b36-43ba-befd-ac9f031b9c9a",
   "metadata": {},
   "outputs": [
    {
     "data": {
      "text/plain": [
       "<Axes: >"
      ]
     },
     "execution_count": 42,
     "metadata": {},
     "output_type": "execute_result"
    }
   ],
   "source": [
    "sns.heatmap(con_mat,annot=True,fmt='g')"
   ]
  },
  {
   "cell_type": "code",
   "execution_count": null,
   "id": "dbc2155e-0b59-4b44-82fa-4f4834cd61a8",
   "metadata": {},
   "outputs": [],
   "source": []
  }
 ],
 "metadata": {
  "kernelspec": {
   "display_name": "Python 3 (ipykernel)",
   "language": "python",
   "name": "python3"
  },
  "language_info": {
   "codemirror_mode": {
    "name": "ipython",
    "version": 3
   },
   "file_extension": ".py",
   "mimetype": "text/x-python",
   "name": "python",
   "nbconvert_exporter": "python",
   "pygments_lexer": "ipython3",
   "version": "3.12.7"
  }
 },
 "nbformat": 4,
 "nbformat_minor": 5
}
